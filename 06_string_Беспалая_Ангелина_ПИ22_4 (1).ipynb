{
  "cells": [
    {
      "cell_type": "markdown",
      "metadata": {
        "id": "u4TUCuX9yGJw"
      },
      "source": [
        "# Работа со строковыми значениями"
      ]
    },
    {
      "cell_type": "markdown",
      "metadata": {
        "id": "hKFlp9IcyGJ1"
      },
      "source": [
        "__Автор задач: Блохин Н.В. (NVBlokhin@fa.ru)__\n",
        "\n",
        "Материалы:\n",
        "* Макрушин С.В. Лекция \"Работа со строковыми значениям\"\n",
        "* https://pyformat.info/\n",
        "* https://docs.python.org/3/library/re.html\n",
        "    * https://docs.python.org/3/library/re.html#flags\n",
        "    * https://docs.python.org/3/library/re.html#functions\n",
        "* https://pythonru.com/primery/primery-primeneniya-regulyarnyh-vyrazheniy-v-python\n",
        "* https://kanoki.org/2019/11/12/how-to-use-regex-in-pandas/\n",
        "* https://realpython.com/nltk-nlp-python/"
      ]
    },
    {
      "cell_type": "markdown",
      "metadata": {
        "id": "5AE6e9oYyGJ3"
      },
      "source": [
        "## Задачи для совместного разбора"
      ]
    },
    {
      "cell_type": "markdown",
      "metadata": {
        "id": "1ymye21cyGJ4"
      },
      "source": [
        "1. Вывести на экран данные из словаря `obj` построчно в виде `k = v`, задав формат таким образом, чтобы знак равенства оказался на одной и той же позиции во всех строках. Строковые литералы обернуть в кавычки."
      ]
    },
    {
      "cell_type": "code",
      "execution_count": 1,
      "metadata": {
        "id": "VERkK7M1yGJ5",
        "colab": {
          "base_uri": "https://localhost:8080/"
        },
        "outputId": "ce0bb740-d1d4-44a7-d926-3f38dcc92e91"
      },
      "outputs": [
        {
          "output_type": "stream",
          "name": "stdout",
          "text": [
            "home_page = 'https://github.com/pypa/sampleproject'\n",
            "keywords  = 'sample setuptools development'\n",
            "license   = 'MIT'\n"
          ]
        }
      ],
      "source": [
        "import re\n",
        "obj = {  \n",
        "         'home_page': 'https://github.com/pypa/sampleproject',\n",
        "         'keywords': 'sample setuptools development',\n",
        "         'license': 'MIT'\n",
        "      }\n",
        "\n",
        "\n",
        "index_equal = len(max(obj.keys(), key=len))\n",
        "for key, value in obj.items():\n",
        "    print(key+ f'{{:>{index_equal-len(key)+2}}} '.format('=')+ f\"'{value}'\")"
      ]
    },
    {
      "cell_type": "markdown",
      "metadata": {
        "id": "sIJ6XHENyGJ7"
      },
      "source": [
        "2. Написать регулярное выражение,которое позволит найти номера групп студентов."
      ]
    },
    {
      "cell_type": "code",
      "execution_count": 2,
      "metadata": {
        "id": "YABqaI5ByGJ8",
        "outputId": "2d0d30a6-f54d-4bce-b3df-33a5b5d17e84",
        "colab": {
          "base_uri": "https://localhost:8080/",
          "height": 143
        }
      },
      "outputs": [
        {
          "output_type": "execute_result",
          "data": {
            "text/plain": [
              "                desc group\n",
              "0  Евгения гр.ПМ19-1  19-1\n",
              "1       Илья пм 20-4  20-4\n",
              "2          Анна 20-3  20-3"
            ],
            "text/html": [
              "\n",
              "  <div id=\"df-a58819e2-2222-4ed0-86cc-9f71be90bc1e\">\n",
              "    <div class=\"colab-df-container\">\n",
              "      <div>\n",
              "<style scoped>\n",
              "    .dataframe tbody tr th:only-of-type {\n",
              "        vertical-align: middle;\n",
              "    }\n",
              "\n",
              "    .dataframe tbody tr th {\n",
              "        vertical-align: top;\n",
              "    }\n",
              "\n",
              "    .dataframe thead th {\n",
              "        text-align: right;\n",
              "    }\n",
              "</style>\n",
              "<table border=\"1\" class=\"dataframe\">\n",
              "  <thead>\n",
              "    <tr style=\"text-align: right;\">\n",
              "      <th></th>\n",
              "      <th>desc</th>\n",
              "      <th>group</th>\n",
              "    </tr>\n",
              "  </thead>\n",
              "  <tbody>\n",
              "    <tr>\n",
              "      <th>0</th>\n",
              "      <td>Евгения гр.ПМ19-1</td>\n",
              "      <td>19-1</td>\n",
              "    </tr>\n",
              "    <tr>\n",
              "      <th>1</th>\n",
              "      <td>Илья пм 20-4</td>\n",
              "      <td>20-4</td>\n",
              "    </tr>\n",
              "    <tr>\n",
              "      <th>2</th>\n",
              "      <td>Анна 20-3</td>\n",
              "      <td>20-3</td>\n",
              "    </tr>\n",
              "  </tbody>\n",
              "</table>\n",
              "</div>\n",
              "      <button class=\"colab-df-convert\" onclick=\"convertToInteractive('df-a58819e2-2222-4ed0-86cc-9f71be90bc1e')\"\n",
              "              title=\"Convert this dataframe to an interactive table.\"\n",
              "              style=\"display:none;\">\n",
              "        \n",
              "  <svg xmlns=\"http://www.w3.org/2000/svg\" height=\"24px\"viewBox=\"0 0 24 24\"\n",
              "       width=\"24px\">\n",
              "    <path d=\"M0 0h24v24H0V0z\" fill=\"none\"/>\n",
              "    <path d=\"M18.56 5.44l.94 2.06.94-2.06 2.06-.94-2.06-.94-.94-2.06-.94 2.06-2.06.94zm-11 1L8.5 8.5l.94-2.06 2.06-.94-2.06-.94L8.5 2.5l-.94 2.06-2.06.94zm10 10l.94 2.06.94-2.06 2.06-.94-2.06-.94-.94-2.06-.94 2.06-2.06.94z\"/><path d=\"M17.41 7.96l-1.37-1.37c-.4-.4-.92-.59-1.43-.59-.52 0-1.04.2-1.43.59L10.3 9.45l-7.72 7.72c-.78.78-.78 2.05 0 2.83L4 21.41c.39.39.9.59 1.41.59.51 0 1.02-.2 1.41-.59l7.78-7.78 2.81-2.81c.8-.78.8-2.07 0-2.86zM5.41 20L4 18.59l7.72-7.72 1.47 1.35L5.41 20z\"/>\n",
              "  </svg>\n",
              "      </button>\n",
              "      \n",
              "  <style>\n",
              "    .colab-df-container {\n",
              "      display:flex;\n",
              "      flex-wrap:wrap;\n",
              "      gap: 12px;\n",
              "    }\n",
              "\n",
              "    .colab-df-convert {\n",
              "      background-color: #E8F0FE;\n",
              "      border: none;\n",
              "      border-radius: 50%;\n",
              "      cursor: pointer;\n",
              "      display: none;\n",
              "      fill: #1967D2;\n",
              "      height: 32px;\n",
              "      padding: 0 0 0 0;\n",
              "      width: 32px;\n",
              "    }\n",
              "\n",
              "    .colab-df-convert:hover {\n",
              "      background-color: #E2EBFA;\n",
              "      box-shadow: 0px 1px 2px rgba(60, 64, 67, 0.3), 0px 1px 3px 1px rgba(60, 64, 67, 0.15);\n",
              "      fill: #174EA6;\n",
              "    }\n",
              "\n",
              "    [theme=dark] .colab-df-convert {\n",
              "      background-color: #3B4455;\n",
              "      fill: #D2E3FC;\n",
              "    }\n",
              "\n",
              "    [theme=dark] .colab-df-convert:hover {\n",
              "      background-color: #434B5C;\n",
              "      box-shadow: 0px 1px 3px 1px rgba(0, 0, 0, 0.15);\n",
              "      filter: drop-shadow(0px 1px 2px rgba(0, 0, 0, 0.3));\n",
              "      fill: #FFFFFF;\n",
              "    }\n",
              "  </style>\n",
              "\n",
              "      <script>\n",
              "        const buttonEl =\n",
              "          document.querySelector('#df-a58819e2-2222-4ed0-86cc-9f71be90bc1e button.colab-df-convert');\n",
              "        buttonEl.style.display =\n",
              "          google.colab.kernel.accessAllowed ? 'block' : 'none';\n",
              "\n",
              "        async function convertToInteractive(key) {\n",
              "          const element = document.querySelector('#df-a58819e2-2222-4ed0-86cc-9f71be90bc1e');\n",
              "          const dataTable =\n",
              "            await google.colab.kernel.invokeFunction('convertToInteractive',\n",
              "                                                     [key], {});\n",
              "          if (!dataTable) return;\n",
              "\n",
              "          const docLinkHtml = 'Like what you see? Visit the ' +\n",
              "            '<a target=\"_blank\" href=https://colab.research.google.com/notebooks/data_table.ipynb>data table notebook</a>'\n",
              "            + ' to learn more about interactive tables.';\n",
              "          element.innerHTML = '';\n",
              "          dataTable['output_type'] = 'display_data';\n",
              "          await google.colab.output.renderOutput(dataTable, element);\n",
              "          const docLink = document.createElement('div');\n",
              "          docLink.innerHTML = docLinkHtml;\n",
              "          element.appendChild(docLink);\n",
              "        }\n",
              "      </script>\n",
              "    </div>\n",
              "  </div>\n",
              "  "
            ]
          },
          "metadata": {},
          "execution_count": 2
        }
      ],
      "source": [
        "import re\n",
        "import pandas as pd\n",
        "\n",
        "obj = pd.Series([\"Евгения гр.ПМ19-1\", \"Илья пм 20-4\", \"Анна 20-3\"])\n",
        "# match = re.search(\"\\d{2}-\\d\", obj[0])\n",
        "df = pd.DataFrame(obj, columns = ['desc'])\n",
        "df[\"group\"] = df.desc.apply(lambda x: re.search(\"\\d{2}-\\d\", x).group())\n",
        "df"
      ]
    },
    {
      "cell_type": "markdown",
      "metadata": {
        "id": "gVWGFVYdyGJ9"
      },
      "source": [
        "3. Разбейте текст формулировки задачи 2 на слова."
      ]
    },
    {
      "cell_type": "code",
      "source": [
        "import re\n",
        "task='Написать регулярное выражение,которое позволит найти номера групп студентов.'\n",
        "re.findall(\"\\w+\", task)"
      ],
      "metadata": {
        "colab": {
          "base_uri": "https://localhost:8080/"
        },
        "id": "-Z8VLaZj-LZq",
        "outputId": "2efd62f3-f4b9-4226-ab7c-698c166976bf"
      },
      "execution_count": 3,
      "outputs": [
        {
          "output_type": "execute_result",
          "data": {
            "text/plain": [
              "['Написать',\n",
              " 'регулярное',\n",
              " 'выражение',\n",
              " 'которое',\n",
              " 'позволит',\n",
              " 'найти',\n",
              " 'номера',\n",
              " 'групп',\n",
              " 'студентов']"
            ]
          },
          "metadata": {},
          "execution_count": 3
        }
      ]
    },
    {
      "cell_type": "markdown",
      "metadata": {
        "id": "8QhMQQqMyGJ-"
      },
      "source": [
        "## Лабораторная работа 6"
      ]
    },
    {
      "cell_type": "markdown",
      "metadata": {
        "id": "CaP12rlNyGJ_"
      },
      "source": [
        "### Форматирование строк"
      ]
    },
    {
      "cell_type": "markdown",
      "metadata": {
        "id": "MdHWAFspyGKA"
      },
      "source": [
        "1\\. Загрузите данные из файла `recipes_sample.csv` (__ЛР2__) в виде `pd.DataFrame` `recipes` При помощи форматирования строк выведите информацию об id рецепта и времени выполнения 5 случайных рецептов в виде таблицы следующего вида:\n",
        "\n",
        "    \n",
        "    |      id      |  minutes  |\n",
        "    |--------------------------|\n",
        "    |    61178     |    65     |\n",
        "    |    202352    |    80     |\n",
        "    |    364322    |    150    |\n",
        "    |    26177     |    20     |\n",
        "    |    224785    |    35     |\n",
        "    \n",
        "Обратите внимание, что ширина столбцов заранее неизвестна и должна рассчитываться динамически, в зависимости от тех данных, которые были выбраны. "
      ]
    },
    {
      "cell_type": "code",
      "execution_count": 4,
      "metadata": {
        "id": "Lcq70lgvyiA_"
      },
      "outputs": [],
      "source": [
        "import pandas as pd\n",
        "import numpy as mp"
      ]
    },
    {
      "cell_type": "code",
      "execution_count": 5,
      "metadata": {
        "colab": {
          "base_uri": "https://localhost:8080/"
        },
        "id": "E3z3SVKXyeBJ",
        "outputId": "239bc2f2-8caf-4eee-8b1a-1e54d32465d5"
      },
      "outputs": [
        {
          "output_type": "stream",
          "name": "stdout",
          "text": [
            "|   id  | minutes |\n",
            "|-----------------|\n",
            "| 44123 |   90    |\n",
            "| 67664 |   10    |\n",
            "| 38798 |   30    |\n",
            "| 35173 |   45    |\n",
            "| 84797 |   25    |\n"
          ]
        }
      ],
      "source": [
        "recipes = pd.read_csv('recipes_sample.csv')\n",
        "s = ['   id  ', ' minutes']\n",
        "print(f'|{str(s[0])}|{str(s[1])} |')\n",
        "print(f'|-----------------|')\n",
        "for i in range(5):\n",
        "  print(f'|{recipes[\"id\"][i]: ^ 7}|{recipes[\"minutes\"][i] : ^9}|')\n",
        "\n",
        "\n"
      ]
    },
    {
      "cell_type": "markdown",
      "metadata": {
        "id": "NA_NXykAyGKB"
      },
      "source": [
        "2\\. Напишите функцию `show_info`, которая по данным о рецепте создает строку (в смысле объекта python) с описанием следующего вида:\n",
        "\n",
        "```\n",
        "\"Название Из Нескольких Слов\"\n",
        "\n",
        "1. Шаг 1\n",
        "2. Шаг 2\n",
        "----------\n",
        "Автор: contributor_id\n",
        "Среднее время приготовления: minutes минут\n",
        "```\n",
        "\n",
        "    \n",
        "Данные для создания строки получите из файлов `recipes_sample.csv` (__ЛР2__) и `steps_sample.xml` (__ЛР3__). \n",
        "Вызовите данную функцию для рецепта с id `170895` и выведите (через `print`) полученную строку на экран."
      ]
    },
    {
      "cell_type": "code",
      "execution_count": 8,
      "metadata": {
        "id": "TyDCfCZxB4RJ"
      },
      "outputs": [],
      "source": [
        "from bs4 import BeautifulSoup\n",
        "import pandas as pd\n",
        "recipes_sample = pd.read_csv(\"recipes_sample.csv\")\n",
        "with open(\"steps_sample.xml\") as f:\n",
        "    data=f.read()\n",
        "steps_sample = BeautifulSoup(data, 'xml')"
      ]
    },
    {
      "cell_type": "code",
      "source": [
        "recipes_sample.loc[recipes_sample.id==170895]"
      ],
      "metadata": {
        "colab": {
          "base_uri": "https://localhost:8080/",
          "height": 142
        },
        "id": "CNu5uuzCTUPt",
        "outputId": "6d1cb7d5-2d70-4c15-b8db-fdffc8a083a5"
      },
      "execution_count": 10,
      "outputs": [
        {
          "output_type": "execute_result",
          "data": {
            "text/plain": [
              "                                         name      id  minutes  \\\n",
              "15754  leeks and parsnips  sauteed or creamed  170895       27   \n",
              "\n",
              "       contributor_id   submitted  n_steps  \\\n",
              "15754            8377  2006-05-31     21.0   \n",
              "\n",
              "                                             description  n_ingredients  \n",
              "15754  this is good sauteed only or creamed. very eas...            9.0  "
            ],
            "text/html": [
              "\n",
              "  <div id=\"df-79819b9b-16ec-434c-9884-d8e7764b9f45\">\n",
              "    <div class=\"colab-df-container\">\n",
              "      <div>\n",
              "<style scoped>\n",
              "    .dataframe tbody tr th:only-of-type {\n",
              "        vertical-align: middle;\n",
              "    }\n",
              "\n",
              "    .dataframe tbody tr th {\n",
              "        vertical-align: top;\n",
              "    }\n",
              "\n",
              "    .dataframe thead th {\n",
              "        text-align: right;\n",
              "    }\n",
              "</style>\n",
              "<table border=\"1\" class=\"dataframe\">\n",
              "  <thead>\n",
              "    <tr style=\"text-align: right;\">\n",
              "      <th></th>\n",
              "      <th>name</th>\n",
              "      <th>id</th>\n",
              "      <th>minutes</th>\n",
              "      <th>contributor_id</th>\n",
              "      <th>submitted</th>\n",
              "      <th>n_steps</th>\n",
              "      <th>description</th>\n",
              "      <th>n_ingredients</th>\n",
              "    </tr>\n",
              "  </thead>\n",
              "  <tbody>\n",
              "    <tr>\n",
              "      <th>15754</th>\n",
              "      <td>leeks and parsnips  sauteed or creamed</td>\n",
              "      <td>170895</td>\n",
              "      <td>27</td>\n",
              "      <td>8377</td>\n",
              "      <td>2006-05-31</td>\n",
              "      <td>21.0</td>\n",
              "      <td>this is good sauteed only or creamed. very eas...</td>\n",
              "      <td>9.0</td>\n",
              "    </tr>\n",
              "  </tbody>\n",
              "</table>\n",
              "</div>\n",
              "      <button class=\"colab-df-convert\" onclick=\"convertToInteractive('df-79819b9b-16ec-434c-9884-d8e7764b9f45')\"\n",
              "              title=\"Convert this dataframe to an interactive table.\"\n",
              "              style=\"display:none;\">\n",
              "        \n",
              "  <svg xmlns=\"http://www.w3.org/2000/svg\" height=\"24px\"viewBox=\"0 0 24 24\"\n",
              "       width=\"24px\">\n",
              "    <path d=\"M0 0h24v24H0V0z\" fill=\"none\"/>\n",
              "    <path d=\"M18.56 5.44l.94 2.06.94-2.06 2.06-.94-2.06-.94-.94-2.06-.94 2.06-2.06.94zm-11 1L8.5 8.5l.94-2.06 2.06-.94-2.06-.94L8.5 2.5l-.94 2.06-2.06.94zm10 10l.94 2.06.94-2.06 2.06-.94-2.06-.94-.94-2.06-.94 2.06-2.06.94z\"/><path d=\"M17.41 7.96l-1.37-1.37c-.4-.4-.92-.59-1.43-.59-.52 0-1.04.2-1.43.59L10.3 9.45l-7.72 7.72c-.78.78-.78 2.05 0 2.83L4 21.41c.39.39.9.59 1.41.59.51 0 1.02-.2 1.41-.59l7.78-7.78 2.81-2.81c.8-.78.8-2.07 0-2.86zM5.41 20L4 18.59l7.72-7.72 1.47 1.35L5.41 20z\"/>\n",
              "  </svg>\n",
              "      </button>\n",
              "      \n",
              "  <style>\n",
              "    .colab-df-container {\n",
              "      display:flex;\n",
              "      flex-wrap:wrap;\n",
              "      gap: 12px;\n",
              "    }\n",
              "\n",
              "    .colab-df-convert {\n",
              "      background-color: #E8F0FE;\n",
              "      border: none;\n",
              "      border-radius: 50%;\n",
              "      cursor: pointer;\n",
              "      display: none;\n",
              "      fill: #1967D2;\n",
              "      height: 32px;\n",
              "      padding: 0 0 0 0;\n",
              "      width: 32px;\n",
              "    }\n",
              "\n",
              "    .colab-df-convert:hover {\n",
              "      background-color: #E2EBFA;\n",
              "      box-shadow: 0px 1px 2px rgba(60, 64, 67, 0.3), 0px 1px 3px 1px rgba(60, 64, 67, 0.15);\n",
              "      fill: #174EA6;\n",
              "    }\n",
              "\n",
              "    [theme=dark] .colab-df-convert {\n",
              "      background-color: #3B4455;\n",
              "      fill: #D2E3FC;\n",
              "    }\n",
              "\n",
              "    [theme=dark] .colab-df-convert:hover {\n",
              "      background-color: #434B5C;\n",
              "      box-shadow: 0px 1px 3px 1px rgba(0, 0, 0, 0.15);\n",
              "      filter: drop-shadow(0px 1px 2px rgba(0, 0, 0, 0.3));\n",
              "      fill: #FFFFFF;\n",
              "    }\n",
              "  </style>\n",
              "\n",
              "      <script>\n",
              "        const buttonEl =\n",
              "          document.querySelector('#df-79819b9b-16ec-434c-9884-d8e7764b9f45 button.colab-df-convert');\n",
              "        buttonEl.style.display =\n",
              "          google.colab.kernel.accessAllowed ? 'block' : 'none';\n",
              "\n",
              "        async function convertToInteractive(key) {\n",
              "          const element = document.querySelector('#df-79819b9b-16ec-434c-9884-d8e7764b9f45');\n",
              "          const dataTable =\n",
              "            await google.colab.kernel.invokeFunction('convertToInteractive',\n",
              "                                                     [key], {});\n",
              "          if (!dataTable) return;\n",
              "\n",
              "          const docLinkHtml = 'Like what you see? Visit the ' +\n",
              "            '<a target=\"_blank\" href=https://colab.research.google.com/notebooks/data_table.ipynb>data table notebook</a>'\n",
              "            + ' to learn more about interactive tables.';\n",
              "          element.innerHTML = '';\n",
              "          dataTable['output_type'] = 'display_data';\n",
              "          await google.colab.output.renderOutput(dataTable, element);\n",
              "          const docLink = document.createElement('div');\n",
              "          docLink.innerHTML = docLinkHtml;\n",
              "          element.appendChild(docLink);\n",
              "        }\n",
              "      </script>\n",
              "    </div>\n",
              "  </div>\n",
              "  "
            ]
          },
          "metadata": {},
          "execution_count": 10
        }
      ]
    },
    {
      "cell_type": "code",
      "execution_count": null,
      "metadata": {
        "id": "rEwSdB2eyGKC",
        "outputId": "68bcc160-689a-46f4-8a3e-b42ac0af8808"
      },
      "outputs": [
        {
          "data": {
            "application/javascript": [
              "\n",
              "            setTimeout(function() {\n",
              "                var nbb_cell_id = 13;\n",
              "                var nbb_unformatted_code = \"assert (\\n    show_info(\\n    name=\\\"george s at the cove black bean soup\\\",\\n    steps=[\\n        \\\"clean the leeks and discard the dark green portions\\\",\\n        \\\"cut the leeks lengthwise then into one-inch pieces\\\",\\n        \\\"melt the butter in a medium skillet , med\\\",\\n    ],\\n    minutes=90,\\n    author_id=35193,\\n)\\n    ==  '\\\"George S At The Cove Black Bean Soup\\\"\\\\n\\\\n1. Clean the leeks and discard the dark green portions\\\\n2. Cut the leeks lengthwise then into one-inch pieces\\\\n3. Melt the butter in a medium skillet , med\\\\n----------\\\\n\\u0410\\u0432\\u0442\\u043e\\u0440: 35193\\\\n\\u0421\\u0440\\u0435\\u0434\\u043d\\u0435\\u0435 \\u0432\\u0440\\u0435\\u043c\\u044f \\u043f\\u0440\\u0438\\u0433\\u043e\\u0442\\u043e\\u0432\\u043b\\u0435\\u043d\\u0438\\u044f: 90 \\u043c\\u0438\\u043d\\u0443\\u0442\\\\n'\\n)\";\n",
              "                var nbb_formatted_code = \"assert (\\n    show_info(\\n        name=\\\"george s at the cove black bean soup\\\",\\n        steps=[\\n            \\\"clean the leeks and discard the dark green portions\\\",\\n            \\\"cut the leeks lengthwise then into one-inch pieces\\\",\\n            \\\"melt the butter in a medium skillet , med\\\",\\n        ],\\n        minutes=90,\\n        author_id=35193,\\n    )\\n    == '\\\"George S At The Cove Black Bean Soup\\\"\\\\n\\\\n1. Clean the leeks and discard the dark green portions\\\\n2. Cut the leeks lengthwise then into one-inch pieces\\\\n3. Melt the butter in a medium skillet , med\\\\n----------\\\\n\\u0410\\u0432\\u0442\\u043e\\u0440: 35193\\\\n\\u0421\\u0440\\u0435\\u0434\\u043d\\u0435\\u0435 \\u0432\\u0440\\u0435\\u043c\\u044f \\u043f\\u0440\\u0438\\u0433\\u043e\\u0442\\u043e\\u0432\\u043b\\u0435\\u043d\\u0438\\u044f: 90 \\u043c\\u0438\\u043d\\u0443\\u0442\\\\n'\\n)\";\n",
              "                var nbb_cells = Jupyter.notebook.get_cells();\n",
              "                for (var i = 0; i < nbb_cells.length; ++i) {\n",
              "                    if (nbb_cells[i].input_prompt_number == nbb_cell_id) {\n",
              "                        if (nbb_cells[i].get_text() == nbb_unformatted_code) {\n",
              "                             nbb_cells[i].set_text(nbb_formatted_code);\n",
              "                        }\n",
              "                        break;\n",
              "                    }\n",
              "                }\n",
              "            }, 500);\n",
              "            "
            ],
            "text/plain": [
              "<IPython.core.display.Javascript object>"
            ]
          },
          "metadata": {},
          "output_type": "display_data"
        }
      ],
      "source": [
        "assert (\n",
        "    show_info(\n",
        "        name=\"george s at the cove black bean soup\",\n",
        "        steps=[\n",
        "            \"clean the leeks and discard the dark green portions\",\n",
        "            \"cut the leeks lengthwise then into one-inch pieces\",\n",
        "            \"melt the butter in a medium skillet , med\",\n",
        "        ],\n",
        "        minutes=90,\n",
        "        author_id=35193,\n",
        "    )\n",
        "    == '\"George S At The Cove Black Bean Soup\"\\n\\n1. Clean the leeks and discard the dark green portions\\n2. Cut the leeks lengthwise then into one-inch pieces\\n3. Melt the butter in a medium skillet , med\\n----------\\nАвтор: 35193\\nСреднее время приготовления: 90 минут\\n'\n",
        ")"
      ]
    },
    {
      "cell_type": "code",
      "source": [
        "recipes=steps_sample.find_all('recipe')\n",
        "def get_recipe_by_id(_id):\n",
        "    current_recipe=recipes_sample.loc[recipes_sample.id==170895]\n",
        "    for recipe in recipes:\n",
        "        if recipe.find(\"id\").text == str(_id):\n",
        "            steps = recipe.find_all('step')\n",
        "            l_step=0\n",
        "            number = 1\n",
        "            print(f\"'{current_recipe.name.values[0]}'\")\n",
        "            for step in steps:\n",
        "                print(f'{number}. '+step.text)\n",
        "                number += 1\n",
        "                l_step=max(l_step, len(step.text))\n",
        "    print('-'*(l_step+3))\n",
        "    print(f\"Автор: {current_recipe.contributor_id.values[0]}\")\n",
        "    print(f\"Среднее время приготовления: {current_recipe.minutes.values[0]} минут\")\n",
        "    \n",
        "get_recipe_by_id(170895)"
      ],
      "metadata": {
        "colab": {
          "base_uri": "https://localhost:8080/"
        },
        "id": "B4L9xvPs_TRA",
        "outputId": "ce997bef-7d39-4324-9ea5-7224b34b0990"
      },
      "execution_count": 11,
      "outputs": [
        {
          "output_type": "stream",
          "name": "stdout",
          "text": [
            "'leeks and parsnips  sauteed or creamed'\n",
            "1. clean the leeks and discard the dark green portions\n",
            "2. cut the leeks lengthwise then into one-inch pieces\n",
            "3. melt the butter in a medium skillet , med\n",
            "4. heat\n",
            "5. add the garlic and fry 'til fragrant\n",
            "6. add leeks and fry until the leeks are tender , about 6-minutes\n",
            "7. meanwhile , peel and chunk the parsnips into one-inch pieces\n",
            "8. place in a steaming basket and steam 'til they are as tender as you prefer\n",
            "9. i like them fork-tender\n",
            "10. drain parsnips and add to the skillet with the leeks\n",
            "11. add salt and pepper\n",
            "12. gently sautee together for 5-minutes\n",
            "13. at this point you can serve it , or continue on and cream it:\n",
            "14. in a jar with a screw top , add the half-n-half and arrowroot\n",
            "15. shake 'til blended\n",
            "16. turn heat to low under the leeks and parsnips\n",
            "17. pour in the arrowroot mixture , stirring gently as you pour\n",
            "18. if too thick , gradually add the water\n",
            "19. let simmer for a couple of minutes\n",
            "20. taste to adjust seasoning , probably an additional 1 / 2 teaspoon salt\n",
            "21. serve warm\n",
            "-----------------------------------------------------------------------------\n",
            "Автор: 8377\n",
            "Среднее время приготовления: 27 минут\n"
          ]
        }
      ]
    },
    {
      "cell_type": "markdown",
      "metadata": {
        "id": "Q-g-j2SSyGKC"
      },
      "source": [
        "## Работа с регулярными выражениями"
      ]
    },
    {
      "cell_type": "markdown",
      "metadata": {
        "id": "IqneunexyGKD"
      },
      "source": [
        "3\\. Напишите регулярное выражение, которое ищет следующий паттерн в строке: число (1 цифра или более), затем пробел, затем слова: hour или hours или minute или minutes. Произведите поиск по данному регулярному выражению в каждом шаге рецепта с id 25082. Выведите на экран все непустые результаты, найденные по данному шаблону."
      ]
    },
    {
      "cell_type": "code",
      "source": [
        "import re\n",
        "recipes=steps_sample.find_all('recipe')\n",
        "def get_recipe_by_pattern(_id):\n",
        "    pattern = '\\d+\\s(?:hour|hours|minute|minutes)'\n",
        "    for recipe in recipes:\n",
        "        if int(recipe.find(\"id\").text) == _id:\n",
        "            steps = recipe.find_all('step')\n",
        "            for step in steps:\n",
        "                time = re.findall(pattern, step.text)\n",
        "                if time:\n",
        "                    for interval in time:\n",
        "                        print(interval)\n",
        "get_recipe_by_pattern(25082)"
      ],
      "metadata": {
        "id": "1dQ4coYoUi4r",
        "colab": {
          "base_uri": "https://localhost:8080/"
        },
        "outputId": "dfe2317d-b337-46cc-d85c-918f2447a61a"
      },
      "execution_count": 13,
      "outputs": [
        {
          "output_type": "stream",
          "name": "stdout",
          "text": [
            "20 minute\n",
            "10 minute\n",
            "2 hour\n",
            "10 minute\n",
            "20 minute\n",
            "30 minute\n"
          ]
        }
      ]
    },
    {
      "cell_type": "code",
      "source": [
        "recipes_sample.description.str"
      ],
      "metadata": {
        "colab": {
          "base_uri": "https://localhost:8080/"
        },
        "id": "jRDwisyX_uC7",
        "outputId": "1ae2dc85-0d8c-4779-81b6-7b0d6931582b"
      },
      "execution_count": 14,
      "outputs": [
        {
          "output_type": "execute_result",
          "data": {
            "text/plain": [
              "<pandas.core.strings.accessor.StringMethods at 0x7ffb0591fee0>"
            ]
          },
          "metadata": {},
          "execution_count": 14
        }
      ]
    },
    {
      "cell_type": "markdown",
      "metadata": {
        "id": "oPBqHU0xyGKD"
      },
      "source": [
        "4\\. Напишите регулярное выражение, которое ищет шаблон вида \"this..., but\" _в начале строки_ . Между словом \"this\" и частью \", but\" может находиться произвольное число букв, цифр, знаков подчеркивания и пробелов. Никаких других символов вместо многоточия быть не может. Пробел между запятой и словом \"but\" может присутствовать или отсутствовать.\n",
        "\n",
        "Используя строковые методы `pd.Series`, выясните, для каких рецептов данный шаблон содержится в тексте описания. Выведите на экран количество таких рецептов и 3 примера подходящих описаний (текст описания должен быть виден на экране полностью)."
      ]
    },
    {
      "cell_type": "code",
      "source": [
        "import re\n",
        "pattern='this[\\w\\s]*,(?:but| but)'\n",
        "recipes_go_pattern = recipes_sample.loc[recipes_sample.description.str.match(pattern)==True]\n",
        "print(f\"Количество рецептов: {recipes_go_pattern.shape[0]}\\n\")\n",
        "for recipe in range(3):\n",
        "    print(f\"Рецепт №{recipe}:\\n    {recipes_go_pattern.description.values[recipe]}\\n\")"
      ],
      "metadata": {
        "colab": {
          "base_uri": "https://localhost:8080/"
        },
        "id": "eXZQ8JHlUjXf",
        "outputId": "e11dff00-201f-4c4e-ebae-8d98a101059c"
      },
      "execution_count": 16,
      "outputs": [
        {
          "output_type": "stream",
          "name": "stdout",
          "text": [
            "Количество рецептов: 134\n",
            "\n",
            "Рецепт №0:\n",
            "    this is a great meal eaten the same day ,but even better the next day , if you can wait! add your favourite spices, but try it first as it is and i think that you will enjoy the 'vegetable' taste. good for freezing.\n",
            "\n",
            "Рецепт №1:\n",
            "    this was adapted from a recipe i found on the net, but i added julienne onion to the peppers.  this is a meal in itself, or you could have a small slice with a meat dish.  for those that like to have brunch, it's a bit different to your traditional quiche recipes.  if you love cheese, you could add 1/2 cup of your favorite to the egg mixture, then pour over peppers.\n",
            "\n",
            "Рецепт №2:\n",
            "    this is kind of similar to some of the other versions out there, but it is the best and easiest i have found\n",
            "\n"
          ]
        }
      ]
    },
    {
      "cell_type": "markdown",
      "metadata": {
        "id": "5XVXZ15kyGKE"
      },
      "source": [
        "5\\. В текстах шагов рецептов обыкновенные дроби имеют вид \"a / b\". Используя регулярные выражения, уберите в тексте шагов рецепта с id 72367 пробелы до и после символа дроби. Выведите на экран шаги этого рецепта после их изменения."
      ]
    },
    {
      "cell_type": "code",
      "source": [
        "import regex as re\n",
        "recipes=steps_sample.find_all('recipe')\n",
        "def get_recipe_by_pattern(_id):\n",
        "    pattern = re.compile('\\d+ \\/ \\d+') \n",
        "    for recipe in recipes:\n",
        "        if int(recipe.find(\"id\").text) == _id:\n",
        "            steps = recipe.find_all('step')\n",
        "            for step in steps:\n",
        "                step=step.text\n",
        "                a = re.search(pattern, step)\n",
        "                if a:\n",
        "                    t = a.group().split(' / ')\n",
        "                    step = re.sub(pattern, f'{t[0]}/{t[1]}', step) \n",
        "                print(step)\n",
        "\n",
        "get_recipe_by_pattern(72367)"
      ],
      "metadata": {
        "id": "Pi9fevFSLxDD",
        "colab": {
          "base_uri": "https://localhost:8080/"
        },
        "outputId": "d7b589ec-6d91-46a0-97ea-9b40361d338a"
      },
      "execution_count": 17,
      "outputs": [
        {
          "output_type": "stream",
          "name": "stdout",
          "text": [
            "mix butter , flour , 1/3 c\n",
            "sugar and 1-1/4 t\n",
            "vanilla\n",
            "press into greased 9\" springform pan\n",
            "mix cream cheese , 1/4 c\n",
            "sugar , eggs and 1/2 t\n",
            "vanilla beating until fluffy\n",
            "pour over dough\n",
            "combine apples , 1/3 c\n",
            "sugar and cinnamon\n",
            "arrange on top of cream cheese mixture and sprinkle with almonds\n",
            "bake at 350 for 45-55 minutes , or until tester comes out clean\n"
          ]
        }
      ]
    },
    {
      "cell_type": "markdown",
      "metadata": {
        "id": "SK8z18DlyGKE"
      },
      "source": [
        "### Сегментация текста"
      ]
    },
    {
      "cell_type": "markdown",
      "metadata": {
        "id": "yeaofkiDyGKE"
      },
      "source": [
        "6\\. Разбейте тексты шагов рецептов на слова при помощи пакета `nltk`. Посчитайте и выведите на экран кол-во уникальных слов среди всех рецептов. Словом называется любая последовательность алфавитных символов (для проверки можно воспользоваться `str.isalpha`). При подсчете количества уникальных слов не учитывайте регистр."
      ]
    },
    {
      "cell_type": "code",
      "source": [
        "pip install nltk"
      ],
      "metadata": {
        "colab": {
          "base_uri": "https://localhost:8080/"
        },
        "id": "l4jhuLgkbJB6",
        "outputId": "e093705f-bc41-4e30-9f9c-a5b3b5d8eff7"
      },
      "execution_count": 18,
      "outputs": [
        {
          "output_type": "stream",
          "name": "stdout",
          "text": [
            "Looking in indexes: https://pypi.org/simple, https://us-python.pkg.dev/colab-wheels/public/simple/\n",
            "Requirement already satisfied: nltk in /usr/local/lib/python3.10/dist-packages (3.8.1)\n",
            "Requirement already satisfied: click in /usr/local/lib/python3.10/dist-packages (from nltk) (8.1.3)\n",
            "Requirement already satisfied: joblib in /usr/local/lib/python3.10/dist-packages (from nltk) (1.2.0)\n",
            "Requirement already satisfied: regex>=2021.8.3 in /usr/local/lib/python3.10/dist-packages (from nltk) (2022.10.31)\n",
            "Requirement already satisfied: tqdm in /usr/local/lib/python3.10/dist-packages (from nltk) (4.65.0)\n"
          ]
        }
      ]
    },
    {
      "cell_type": "code",
      "source": [
        "import nltk\n",
        "nltk.download('punkt')"
      ],
      "metadata": {
        "colab": {
          "base_uri": "https://localhost:8080/"
        },
        "id": "D-Nk1NrGbQDF",
        "outputId": "be89b9f0-5e5a-44f8-85bd-6e797b0b1393"
      },
      "execution_count": 19,
      "outputs": [
        {
          "output_type": "stream",
          "name": "stderr",
          "text": [
            "[nltk_data] Downloading package punkt to /root/nltk_data...\n",
            "[nltk_data]   Unzipping tokenizers/punkt.zip.\n"
          ]
        },
        {
          "output_type": "execute_result",
          "data": {
            "text/plain": [
              "True"
            ]
          },
          "metadata": {},
          "execution_count": 19
        }
      ]
    },
    {
      "cell_type": "code",
      "source": [
        "from bs4 import BeautifulSoup\n",
        "import pandas as pd\n",
        "recipes_sample = pd.read_csv(\"recipes_sample.csv\")\n",
        "with open(\"steps_sample.xml\") as f:\n",
        "    data=f.read()\n",
        "steps_sample = BeautifulSoup(data, 'xml')"
      ],
      "metadata": {
        "id": "lH0CodjyACRR"
      },
      "execution_count": 21,
      "outputs": []
    },
    {
      "cell_type": "code",
      "source": [
        "import nltk\n",
        "recipes=steps_sample.find_all('recipe')\n",
        "def get_words():\n",
        "    words = set()\n",
        "    for recipe in recipes:\n",
        "        steps = recipe.find_all('step')\n",
        "        for step in steps:\n",
        "            step=step.text\n",
        "            words.update(nltk.word_tokenize(step))\n",
        "    real_words =set()\n",
        "    for word in words:\n",
        "        if word.isalpha():\n",
        "            real_words.add(word)\n",
        "    return real_words\n",
        "print(len(get_words()))"
      ],
      "metadata": {
        "colab": {
          "base_uri": "https://localhost:8080/"
        },
        "id": "7EP5wqwLAJwc",
        "outputId": "067925de-6eeb-4330-c5da-2f94f11c4a34"
      },
      "execution_count": 22,
      "outputs": [
        {
          "output_type": "stream",
          "name": "stdout",
          "text": [
            "14926\n"
          ]
        }
      ]
    },
    {
      "cell_type": "markdown",
      "metadata": {
        "id": "Xz2XrnAkyGKF"
      },
      "source": [
        "7\\. Разбейте описания рецептов из `recipes` на предложения при помощи пакета `nltk`. Найдите 5 самых длинных описаний (по количеству _предложений_) рецептов в датасете и выведите строки фрейма, соответствующие этим рецептами, в порядке убывания длины."
      ]
    },
    {
      "cell_type": "code",
      "source": [
        "recipes=steps_sample.find_all('recipe')\n",
        "recipes_sample = pd.read_csv(\"recipes_sample.csv\")\n",
        "[i for i in recipes_sample.id.values[:5]]"
      ],
      "metadata": {
        "colab": {
          "base_uri": "https://localhost:8080/"
        },
        "id": "7F5iTzpHASvs",
        "outputId": "2db29497-ec72-49ea-d86a-0323627da2a1"
      },
      "execution_count": 24,
      "outputs": [
        {
          "output_type": "execute_result",
          "data": {
            "text/plain": [
              "[44123, 67664, 38798, 35173, 84797]"
            ]
          },
          "metadata": {},
          "execution_count": 24
        }
      ]
    },
    {
      "cell_type": "code",
      "source": [
        "import nltk\n",
        "\n",
        "def get_sentences():\n",
        "    ids = [i for i in recipes_sample.id.values[:5]]\n",
        "    l_s = [0 for i in range(5)]\n",
        "    \n",
        "    for recipe in recipes:\n",
        "        _id = recipe.find('id').text\n",
        "        steps = recipe.find_all('step')\n",
        "        l_sentences = 0\n",
        "        for step in steps:\n",
        "            step=step.text\n",
        "            l_sentences+=len(nltk.sent_tokenize(step))\n",
        "        for i in range(len(l_s)):\n",
        "            if l_sentences>l_s[i]:\n",
        "                ids[i] = int(_id)\n",
        "                l_s[i] = l_sentences\n",
        "                break\n",
        "    return ids, l_s\n",
        "ids, length_s = get_sentences()"
      ],
      "metadata": {
        "id": "X5Vg6peZAYGj"
      },
      "execution_count": 25,
      "outputs": []
    },
    {
      "cell_type": "code",
      "source": [
        "print(ids)"
      ],
      "metadata": {
        "colab": {
          "base_uri": "https://localhost:8080/"
        },
        "id": "YWlUU0cZAd3X",
        "outputId": "21d30d49-d5ca-4620-f7a7-3d9d2188f096"
      },
      "execution_count": 26,
      "outputs": [
        {
          "output_type": "stream",
          "name": "stdout",
          "text": [
            "[337926, 536360, 373670, 510490, 509506]\n"
          ]
        }
      ]
    },
    {
      "cell_type": "code",
      "source": [
        "print(length_s)"
      ],
      "metadata": {
        "colab": {
          "base_uri": "https://localhost:8080/"
        },
        "id": "vPCPmwO2AgOV",
        "outputId": "670eb23a-d000-4e5c-a3c7-02bfc5221071"
      },
      "execution_count": 27,
      "outputs": [
        {
          "output_type": "stream",
          "name": "stdout",
          "text": [
            "[95, 73, 69, 66, 56]\n"
          ]
        }
      ]
    },
    {
      "cell_type": "code",
      "source": [
        "recipes_sample.loc[recipes_sample.id.isin(ids)]"
      ],
      "metadata": {
        "colab": {
          "base_uri": "https://localhost:8080/",
          "height": 337
        },
        "id": "LKwmwyW8Aiz9",
        "outputId": "5cd01b8f-fc1f-46f8-857b-6add0ff336fe"
      },
      "execution_count": 28,
      "outputs": [
        {
          "output_type": "execute_result",
          "data": {
            "text/plain": [
              "                                                 name      id  minutes  \\\n",
              "13294            hamburger potpie with homemade crust  536360      160   \n",
              "17562                           meyer lemon marmalade  373670      150   \n",
              "21733            pumpkin pie made from a real pumpkin  337926      195   \n",
              "25895                          sticky cinnamon buns 2  510490       90   \n",
              "28554  veal chuck chops with onions  cabbage   apples  509506       75   \n",
              "\n",
              "       contributor_id   submitted  n_steps  \\\n",
              "13294      1801884905  2018-07-17     73.0   \n",
              "17562         1206943  2009-05-22     69.0   \n",
              "21733         1027170  2008-11-17      NaN   \n",
              "25895          695933  2013-12-07     65.0   \n",
              "28554         2958169  2013-11-15      NaN   \n",
              "\n",
              "                                             description  n_ingredients  \n",
              "13294  the flaky, buttery crust is only the beginning...            NaN  \n",
              "17562  i only had a few meyer lemons from my first cr...            NaN  \n",
              "21733          the best pumpkin pie you will ever taste!            NaN  \n",
              "25895     nothing beats sticky buns hot out of the oven!            NaN  \n",
              "28554  the flavors for this scream out fall cooking! ...            NaN  "
            ],
            "text/html": [
              "\n",
              "  <div id=\"df-aab37a3b-5a1a-41f3-be5c-1a2cf0a9b409\">\n",
              "    <div class=\"colab-df-container\">\n",
              "      <div>\n",
              "<style scoped>\n",
              "    .dataframe tbody tr th:only-of-type {\n",
              "        vertical-align: middle;\n",
              "    }\n",
              "\n",
              "    .dataframe tbody tr th {\n",
              "        vertical-align: top;\n",
              "    }\n",
              "\n",
              "    .dataframe thead th {\n",
              "        text-align: right;\n",
              "    }\n",
              "</style>\n",
              "<table border=\"1\" class=\"dataframe\">\n",
              "  <thead>\n",
              "    <tr style=\"text-align: right;\">\n",
              "      <th></th>\n",
              "      <th>name</th>\n",
              "      <th>id</th>\n",
              "      <th>minutes</th>\n",
              "      <th>contributor_id</th>\n",
              "      <th>submitted</th>\n",
              "      <th>n_steps</th>\n",
              "      <th>description</th>\n",
              "      <th>n_ingredients</th>\n",
              "    </tr>\n",
              "  </thead>\n",
              "  <tbody>\n",
              "    <tr>\n",
              "      <th>13294</th>\n",
              "      <td>hamburger potpie with homemade crust</td>\n",
              "      <td>536360</td>\n",
              "      <td>160</td>\n",
              "      <td>1801884905</td>\n",
              "      <td>2018-07-17</td>\n",
              "      <td>73.0</td>\n",
              "      <td>the flaky, buttery crust is only the beginning...</td>\n",
              "      <td>NaN</td>\n",
              "    </tr>\n",
              "    <tr>\n",
              "      <th>17562</th>\n",
              "      <td>meyer lemon marmalade</td>\n",
              "      <td>373670</td>\n",
              "      <td>150</td>\n",
              "      <td>1206943</td>\n",
              "      <td>2009-05-22</td>\n",
              "      <td>69.0</td>\n",
              "      <td>i only had a few meyer lemons from my first cr...</td>\n",
              "      <td>NaN</td>\n",
              "    </tr>\n",
              "    <tr>\n",
              "      <th>21733</th>\n",
              "      <td>pumpkin pie made from a real pumpkin</td>\n",
              "      <td>337926</td>\n",
              "      <td>195</td>\n",
              "      <td>1027170</td>\n",
              "      <td>2008-11-17</td>\n",
              "      <td>NaN</td>\n",
              "      <td>the best pumpkin pie you will ever taste!</td>\n",
              "      <td>NaN</td>\n",
              "    </tr>\n",
              "    <tr>\n",
              "      <th>25895</th>\n",
              "      <td>sticky cinnamon buns 2</td>\n",
              "      <td>510490</td>\n",
              "      <td>90</td>\n",
              "      <td>695933</td>\n",
              "      <td>2013-12-07</td>\n",
              "      <td>65.0</td>\n",
              "      <td>nothing beats sticky buns hot out of the oven!</td>\n",
              "      <td>NaN</td>\n",
              "    </tr>\n",
              "    <tr>\n",
              "      <th>28554</th>\n",
              "      <td>veal chuck chops with onions  cabbage   apples</td>\n",
              "      <td>509506</td>\n",
              "      <td>75</td>\n",
              "      <td>2958169</td>\n",
              "      <td>2013-11-15</td>\n",
              "      <td>NaN</td>\n",
              "      <td>the flavors for this scream out fall cooking! ...</td>\n",
              "      <td>NaN</td>\n",
              "    </tr>\n",
              "  </tbody>\n",
              "</table>\n",
              "</div>\n",
              "      <button class=\"colab-df-convert\" onclick=\"convertToInteractive('df-aab37a3b-5a1a-41f3-be5c-1a2cf0a9b409')\"\n",
              "              title=\"Convert this dataframe to an interactive table.\"\n",
              "              style=\"display:none;\">\n",
              "        \n",
              "  <svg xmlns=\"http://www.w3.org/2000/svg\" height=\"24px\"viewBox=\"0 0 24 24\"\n",
              "       width=\"24px\">\n",
              "    <path d=\"M0 0h24v24H0V0z\" fill=\"none\"/>\n",
              "    <path d=\"M18.56 5.44l.94 2.06.94-2.06 2.06-.94-2.06-.94-.94-2.06-.94 2.06-2.06.94zm-11 1L8.5 8.5l.94-2.06 2.06-.94-2.06-.94L8.5 2.5l-.94 2.06-2.06.94zm10 10l.94 2.06.94-2.06 2.06-.94-2.06-.94-.94-2.06-.94 2.06-2.06.94z\"/><path d=\"M17.41 7.96l-1.37-1.37c-.4-.4-.92-.59-1.43-.59-.52 0-1.04.2-1.43.59L10.3 9.45l-7.72 7.72c-.78.78-.78 2.05 0 2.83L4 21.41c.39.39.9.59 1.41.59.51 0 1.02-.2 1.41-.59l7.78-7.78 2.81-2.81c.8-.78.8-2.07 0-2.86zM5.41 20L4 18.59l7.72-7.72 1.47 1.35L5.41 20z\"/>\n",
              "  </svg>\n",
              "      </button>\n",
              "      \n",
              "  <style>\n",
              "    .colab-df-container {\n",
              "      display:flex;\n",
              "      flex-wrap:wrap;\n",
              "      gap: 12px;\n",
              "    }\n",
              "\n",
              "    .colab-df-convert {\n",
              "      background-color: #E8F0FE;\n",
              "      border: none;\n",
              "      border-radius: 50%;\n",
              "      cursor: pointer;\n",
              "      display: none;\n",
              "      fill: #1967D2;\n",
              "      height: 32px;\n",
              "      padding: 0 0 0 0;\n",
              "      width: 32px;\n",
              "    }\n",
              "\n",
              "    .colab-df-convert:hover {\n",
              "      background-color: #E2EBFA;\n",
              "      box-shadow: 0px 1px 2px rgba(60, 64, 67, 0.3), 0px 1px 3px 1px rgba(60, 64, 67, 0.15);\n",
              "      fill: #174EA6;\n",
              "    }\n",
              "\n",
              "    [theme=dark] .colab-df-convert {\n",
              "      background-color: #3B4455;\n",
              "      fill: #D2E3FC;\n",
              "    }\n",
              "\n",
              "    [theme=dark] .colab-df-convert:hover {\n",
              "      background-color: #434B5C;\n",
              "      box-shadow: 0px 1px 3px 1px rgba(0, 0, 0, 0.15);\n",
              "      filter: drop-shadow(0px 1px 2px rgba(0, 0, 0, 0.3));\n",
              "      fill: #FFFFFF;\n",
              "    }\n",
              "  </style>\n",
              "\n",
              "      <script>\n",
              "        const buttonEl =\n",
              "          document.querySelector('#df-aab37a3b-5a1a-41f3-be5c-1a2cf0a9b409 button.colab-df-convert');\n",
              "        buttonEl.style.display =\n",
              "          google.colab.kernel.accessAllowed ? 'block' : 'none';\n",
              "\n",
              "        async function convertToInteractive(key) {\n",
              "          const element = document.querySelector('#df-aab37a3b-5a1a-41f3-be5c-1a2cf0a9b409');\n",
              "          const dataTable =\n",
              "            await google.colab.kernel.invokeFunction('convertToInteractive',\n",
              "                                                     [key], {});\n",
              "          if (!dataTable) return;\n",
              "\n",
              "          const docLinkHtml = 'Like what you see? Visit the ' +\n",
              "            '<a target=\"_blank\" href=https://colab.research.google.com/notebooks/data_table.ipynb>data table notebook</a>'\n",
              "            + ' to learn more about interactive tables.';\n",
              "          element.innerHTML = '';\n",
              "          dataTable['output_type'] = 'display_data';\n",
              "          await google.colab.output.renderOutput(dataTable, element);\n",
              "          const docLink = document.createElement('div');\n",
              "          docLink.innerHTML = docLinkHtml;\n",
              "          element.appendChild(docLink);\n",
              "        }\n",
              "      </script>\n",
              "    </div>\n",
              "  </div>\n",
              "  "
            ]
          },
          "metadata": {},
          "execution_count": 28
        }
      ]
    },
    {
      "cell_type": "markdown",
      "metadata": {
        "id": "6_gnNQ85yGKF"
      },
      "source": [
        "8\\. Напишите функцию, которая для заданного предложения выводит информацию о частях речи слов, входящих в предложение, в следующем виде:\n",
        "```\n",
        "PRP   VBD   DT      NNS     CC   VBD      NNS        RB   \n",
        " I  omitted the raspberries and added strawberries instead\n",
        "``` \n",
        "Для определения части речи слова можно воспользоваться `nltk.pos_tag`.\n",
        "\n",
        "Проверьте работоспособность функции на названии рецепта с id 241106.\n",
        "\n",
        "Обратите внимание, что часть речи должна находиться ровно посередине над соотвествующим словом, а между самими словами должен быть ровно один пробел.\n"
      ]
    },
    {
      "cell_type": "code",
      "execution_count": 29,
      "metadata": {
        "id": "rfl2w0UYyGKG",
        "colab": {
          "base_uri": "https://localhost:8080/"
        },
        "outputId": "47144ef8-97b7-49de-b1ab-4772bd372068"
      },
      "outputs": [
        {
          "output_type": "stream",
          "name": "stderr",
          "text": [
            "[nltk_data] Downloading package averaged_perceptron_tagger to\n",
            "[nltk_data]     /root/nltk_data...\n",
            "[nltk_data]   Unzipping taggers/averaged_perceptron_tagger.zip.\n"
          ]
        },
        {
          "output_type": "execute_result",
          "data": {
            "text/plain": [
              "True"
            ]
          },
          "metadata": {},
          "execution_count": 29
        }
      ],
      "source": [
        "import nltk\n",
        "nltk.download('averaged_perceptron_tagger')"
      ]
    },
    {
      "cell_type": "code",
      "source": [
        "import nltk\n",
        "\n",
        "def get_words(this_id):\n",
        "    for recipe in recipes:\n",
        "        _id = int(recipe.find('id').text)\n",
        "        if _id == this_id:\n",
        "            step = recipe.find('step').text\n",
        "            words = nltk.word_tokenize(step)\n",
        "            parts = [b for a, b in nltk.pos_tag(words)]\n",
        "            windows = [max(len(word), len(part)) for word, part in zip(words, parts)]\n",
        "            print(*[f\"{str(part):^{window}s}\" for part, window in zip(parts, windows)])\n",
        "            print(*[f\"{str(word):^{window}s}\" for word, window in zip(words, windows)])\n",
        "get_words(241106)"
      ],
      "metadata": {
        "colab": {
          "base_uri": "https://localhost:8080/"
        },
        "id": "FF4nqe9NAmq2",
        "outputId": "85f7ac25-05a0-453c-8caf-437d8fde1493"
      },
      "execution_count": 30,
      "outputs": [
        {
          "output_type": "stream",
          "name": "stdout",
          "text": [
            "TO  VB  DT     JJ       NN    :   VB    DT   JJ   CD     NNS     ,   RB    VBG   DT  NN  CC    VBG      RB    TO   VB     RB \n",
            "to make the balsamic marinade : combine the first 5  ingredients , slowly adding the oil and stirring briskly to combine well\n"
          ]
        }
      ]
    }
  ],
  "metadata": {
    "colab": {
      "provenance": []
    },
    "kernelspec": {
      "display_name": "Python 3 (ipykernel)",
      "language": "python",
      "name": "python3"
    },
    "language_info": {
      "codemirror_mode": {
        "name": "ipython",
        "version": 3
      },
      "file_extension": ".py",
      "mimetype": "text/x-python",
      "name": "python",
      "nbconvert_exporter": "python",
      "pygments_lexer": "ipython3",
      "version": "3.9.7"
    }
  },
  "nbformat": 4,
  "nbformat_minor": 0
}