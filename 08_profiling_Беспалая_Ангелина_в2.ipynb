{
  "cells": [
    {
      "cell_type": "markdown",
      "metadata": {
        "id": "BhAeFPp0Y2mB"
      },
      "source": [
        "## Оптимизация выполнения кода, векторизация, Numba"
      ]
    },
    {
      "cell_type": "markdown",
      "metadata": {
        "id": "pLRp-ErsY2mE"
      },
      "source": [
        "Материалы:\n",
        "* Макрушин С.В. Лекция 3: Оптимизация выполнения кода, векторизация, Numba\n",
        "* IPython Cookbook, Second Edition (2018), глава 4\n",
        "* https://numba.pydata.org/numba-doc/latest/user/5minguide.html"
      ]
    },
    {
      "cell_type": "markdown",
      "metadata": {
        "id": "WeDC20AOY2mE"
      },
      "source": [
        "## Задачи для совместного разбора"
      ]
    },
    {
      "cell_type": "code",
      "source": [
        "import numpy as np\n",
        "from numba import njit\n",
        "import pandas as pd\n",
        "import random"
      ],
      "metadata": {
        "id": "SKwBZOPjY-gx"
      },
      "execution_count": null,
      "outputs": []
    },
    {
      "cell_type": "markdown",
      "metadata": {
        "id": "iHW1-02fY2mE"
      },
      "source": [
        "1. Сгенерируйте массив `A` из `N=1млн` случайных целых чисел на отрезке от 0 до 1000. Пусть `B[i] = A[i] + 100`. Посчитайте среднее значение массива `B`."
      ]
    },
    {
      "cell_type": "code",
      "source": [
        "%%time\n",
        "a = []\n",
        "for i in range(1000000):\n",
        "    k = random.randint(0,1000)\n",
        "    a.append(k)\n",
        "random.shuffle(a)\n",
        "b = [j+100 for j in a]\n",
        "#print(a[:15])\n",
        "#print(b[:15])\n",
        "print(sum(b)//len(b))"
      ],
      "metadata": {
        "colab": {
          "base_uri": "https://localhost:8080/"
        },
        "id": "YfjR_KrYjE4T",
        "outputId": "a154db9f-f585-49bb-e577-9980a51173fc"
      },
      "execution_count": null,
      "outputs": [
        {
          "output_type": "stream",
          "name": "stdout",
          "text": [
            "600\n",
            "CPU times: user 2.35 s, sys: 11.7 ms, total: 2.36 s\n",
            "Wall time: 2.42 s\n"
          ]
        }
      ]
    },
    {
      "cell_type": "code",
      "execution_count": null,
      "metadata": {
        "colab": {
          "base_uri": "https://localhost:8080/"
        },
        "id": "hgzIrJnVY2mF",
        "outputId": "910e09da-e9ad-4a3c-e084-b3f8b7df91ea"
      },
      "outputs": [
        {
          "output_type": "stream",
          "name": "stdout",
          "text": [
            "599\n"
          ]
        }
      ],
      "source": [
        "def task_1():\n",
        "  a = []\n",
        "  for i in range(1000000):\n",
        "    k = random.randint(0,1000)\n",
        "    a.append(k)\n",
        "  random.shuffle(a)\n",
        "  b = [j+100 for j in a]\n",
        "#print(a[:15])\n",
        "#print(b[:15])\n",
        "  return print(sum(b)//len(b))\n",
        "task_1()"
      ]
    },
    {
      "cell_type": "code",
      "source": [
        "%time task_1() "
      ],
      "metadata": {
        "colab": {
          "base_uri": "https://localhost:8080/"
        },
        "id": "UdtFxVY_iXKD",
        "outputId": "1b03ec86-aa7b-47df-a862-3030815a7de6"
      },
      "execution_count": null,
      "outputs": [
        {
          "output_type": "stream",
          "name": "stdout",
          "text": [
            "600\n",
            "CPU times: user 2.1 s, sys: 89.6 ms, total: 2.19 s\n",
            "Wall time: 2.22 s\n"
          ]
        }
      ]
    },
    {
      "cell_type": "markdown",
      "metadata": {
        "id": "QrBVBqOgY2mG"
      },
      "source": [
        "2. Создайте таблицу 2млн строк и с 4 столбцами, заполненными случайными числами. Добавьте столбец `key`, которые содержит элементы из множества английских букв. Выберите из таблицы подмножество строк, для которых в столбце `key` указаны первые 5 английских букв."
      ]
    },
    {
      "cell_type": "code",
      "source": [
        "a = a+a\n",
        "b = b+b\n",
        "print(len(a), len(b))"
      ],
      "metadata": {
        "colab": {
          "base_uri": "https://localhost:8080/"
        },
        "id": "06G1g3U__I9R",
        "outputId": "cd9b6a9a-884d-467c-aef2-a11f8b80cc73"
      },
      "execution_count": null,
      "outputs": [
        {
          "output_type": "stream",
          "name": "stdout",
          "text": [
            "2000000 2000000\n"
          ]
        }
      ]
    },
    {
      "cell_type": "code",
      "source": [
        "import string\n",
        "\n",
        "df = pd.DataFrame({'col1':a, 'col2':b, 'col3':a[::-1], 'col4':b[::-1]})\n",
        "randomLetter = random.choice(string.ascii_letters)\n",
        "\n",
        "df['key'] = [random.choice(string.ascii_letters) for i in range(2000000)]\n",
        "df"
      ],
      "metadata": {
        "id": "r1EvMv0eFe4s",
        "colab": {
          "base_uri": "https://localhost:8080/",
          "height": 424
        },
        "outputId": "ab1011f7-346d-474b-fdea-9e04b4d4dd93"
      },
      "execution_count": null,
      "outputs": [
        {
          "output_type": "execute_result",
          "data": {
            "text/plain": [
              "         col1  col2  col3  col4 key\n",
              "0          34   134   357   457   K\n",
              "1         123   223   459   559   j\n",
              "2         722   822   378   478   p\n",
              "3         615   715   838   938   q\n",
              "4         543   643   684   784   W\n",
              "...       ...   ...   ...   ...  ..\n",
              "1999995   684   784   543   643   c\n",
              "1999996   838   938   615   715   M\n",
              "1999997   378   478   722   822   V\n",
              "1999998   459   559   123   223   y\n",
              "1999999   357   457    34   134   r\n",
              "\n",
              "[2000000 rows x 5 columns]"
            ],
            "text/html": [
              "\n",
              "  <div id=\"df-b468ad17-e086-411a-9a21-bb047f74c620\">\n",
              "    <div class=\"colab-df-container\">\n",
              "      <div>\n",
              "<style scoped>\n",
              "    .dataframe tbody tr th:only-of-type {\n",
              "        vertical-align: middle;\n",
              "    }\n",
              "\n",
              "    .dataframe tbody tr th {\n",
              "        vertical-align: top;\n",
              "    }\n",
              "\n",
              "    .dataframe thead th {\n",
              "        text-align: right;\n",
              "    }\n",
              "</style>\n",
              "<table border=\"1\" class=\"dataframe\">\n",
              "  <thead>\n",
              "    <tr style=\"text-align: right;\">\n",
              "      <th></th>\n",
              "      <th>col1</th>\n",
              "      <th>col2</th>\n",
              "      <th>col3</th>\n",
              "      <th>col4</th>\n",
              "      <th>key</th>\n",
              "    </tr>\n",
              "  </thead>\n",
              "  <tbody>\n",
              "    <tr>\n",
              "      <th>0</th>\n",
              "      <td>34</td>\n",
              "      <td>134</td>\n",
              "      <td>357</td>\n",
              "      <td>457</td>\n",
              "      <td>K</td>\n",
              "    </tr>\n",
              "    <tr>\n",
              "      <th>1</th>\n",
              "      <td>123</td>\n",
              "      <td>223</td>\n",
              "      <td>459</td>\n",
              "      <td>559</td>\n",
              "      <td>j</td>\n",
              "    </tr>\n",
              "    <tr>\n",
              "      <th>2</th>\n",
              "      <td>722</td>\n",
              "      <td>822</td>\n",
              "      <td>378</td>\n",
              "      <td>478</td>\n",
              "      <td>p</td>\n",
              "    </tr>\n",
              "    <tr>\n",
              "      <th>3</th>\n",
              "      <td>615</td>\n",
              "      <td>715</td>\n",
              "      <td>838</td>\n",
              "      <td>938</td>\n",
              "      <td>q</td>\n",
              "    </tr>\n",
              "    <tr>\n",
              "      <th>4</th>\n",
              "      <td>543</td>\n",
              "      <td>643</td>\n",
              "      <td>684</td>\n",
              "      <td>784</td>\n",
              "      <td>W</td>\n",
              "    </tr>\n",
              "    <tr>\n",
              "      <th>...</th>\n",
              "      <td>...</td>\n",
              "      <td>...</td>\n",
              "      <td>...</td>\n",
              "      <td>...</td>\n",
              "      <td>...</td>\n",
              "    </tr>\n",
              "    <tr>\n",
              "      <th>1999995</th>\n",
              "      <td>684</td>\n",
              "      <td>784</td>\n",
              "      <td>543</td>\n",
              "      <td>643</td>\n",
              "      <td>c</td>\n",
              "    </tr>\n",
              "    <tr>\n",
              "      <th>1999996</th>\n",
              "      <td>838</td>\n",
              "      <td>938</td>\n",
              "      <td>615</td>\n",
              "      <td>715</td>\n",
              "      <td>M</td>\n",
              "    </tr>\n",
              "    <tr>\n",
              "      <th>1999997</th>\n",
              "      <td>378</td>\n",
              "      <td>478</td>\n",
              "      <td>722</td>\n",
              "      <td>822</td>\n",
              "      <td>V</td>\n",
              "    </tr>\n",
              "    <tr>\n",
              "      <th>1999998</th>\n",
              "      <td>459</td>\n",
              "      <td>559</td>\n",
              "      <td>123</td>\n",
              "      <td>223</td>\n",
              "      <td>y</td>\n",
              "    </tr>\n",
              "    <tr>\n",
              "      <th>1999999</th>\n",
              "      <td>357</td>\n",
              "      <td>457</td>\n",
              "      <td>34</td>\n",
              "      <td>134</td>\n",
              "      <td>r</td>\n",
              "    </tr>\n",
              "  </tbody>\n",
              "</table>\n",
              "<p>2000000 rows × 5 columns</p>\n",
              "</div>\n",
              "      <button class=\"colab-df-convert\" onclick=\"convertToInteractive('df-b468ad17-e086-411a-9a21-bb047f74c620')\"\n",
              "              title=\"Convert this dataframe to an interactive table.\"\n",
              "              style=\"display:none;\">\n",
              "        \n",
              "  <svg xmlns=\"http://www.w3.org/2000/svg\" height=\"24px\"viewBox=\"0 0 24 24\"\n",
              "       width=\"24px\">\n",
              "    <path d=\"M0 0h24v24H0V0z\" fill=\"none\"/>\n",
              "    <path d=\"M18.56 5.44l.94 2.06.94-2.06 2.06-.94-2.06-.94-.94-2.06-.94 2.06-2.06.94zm-11 1L8.5 8.5l.94-2.06 2.06-.94-2.06-.94L8.5 2.5l-.94 2.06-2.06.94zm10 10l.94 2.06.94-2.06 2.06-.94-2.06-.94-.94-2.06-.94 2.06-2.06.94z\"/><path d=\"M17.41 7.96l-1.37-1.37c-.4-.4-.92-.59-1.43-.59-.52 0-1.04.2-1.43.59L10.3 9.45l-7.72 7.72c-.78.78-.78 2.05 0 2.83L4 21.41c.39.39.9.59 1.41.59.51 0 1.02-.2 1.41-.59l7.78-7.78 2.81-2.81c.8-.78.8-2.07 0-2.86zM5.41 20L4 18.59l7.72-7.72 1.47 1.35L5.41 20z\"/>\n",
              "  </svg>\n",
              "      </button>\n",
              "      \n",
              "  <style>\n",
              "    .colab-df-container {\n",
              "      display:flex;\n",
              "      flex-wrap:wrap;\n",
              "      gap: 12px;\n",
              "    }\n",
              "\n",
              "    .colab-df-convert {\n",
              "      background-color: #E8F0FE;\n",
              "      border: none;\n",
              "      border-radius: 50%;\n",
              "      cursor: pointer;\n",
              "      display: none;\n",
              "      fill: #1967D2;\n",
              "      height: 32px;\n",
              "      padding: 0 0 0 0;\n",
              "      width: 32px;\n",
              "    }\n",
              "\n",
              "    .colab-df-convert:hover {\n",
              "      background-color: #E2EBFA;\n",
              "      box-shadow: 0px 1px 2px rgba(60, 64, 67, 0.3), 0px 1px 3px 1px rgba(60, 64, 67, 0.15);\n",
              "      fill: #174EA6;\n",
              "    }\n",
              "\n",
              "    [theme=dark] .colab-df-convert {\n",
              "      background-color: #3B4455;\n",
              "      fill: #D2E3FC;\n",
              "    }\n",
              "\n",
              "    [theme=dark] .colab-df-convert:hover {\n",
              "      background-color: #434B5C;\n",
              "      box-shadow: 0px 1px 3px 1px rgba(0, 0, 0, 0.15);\n",
              "      filter: drop-shadow(0px 1px 2px rgba(0, 0, 0, 0.3));\n",
              "      fill: #FFFFFF;\n",
              "    }\n",
              "  </style>\n",
              "\n",
              "      <script>\n",
              "        const buttonEl =\n",
              "          document.querySelector('#df-b468ad17-e086-411a-9a21-bb047f74c620 button.colab-df-convert');\n",
              "        buttonEl.style.display =\n",
              "          google.colab.kernel.accessAllowed ? 'block' : 'none';\n",
              "\n",
              "        async function convertToInteractive(key) {\n",
              "          const element = document.querySelector('#df-b468ad17-e086-411a-9a21-bb047f74c620');\n",
              "          const dataTable =\n",
              "            await google.colab.kernel.invokeFunction('convertToInteractive',\n",
              "                                                     [key], {});\n",
              "          if (!dataTable) return;\n",
              "\n",
              "          const docLinkHtml = 'Like what you see? Visit the ' +\n",
              "            '<a target=\"_blank\" href=https://colab.research.google.com/notebooks/data_table.ipynb>data table notebook</a>'\n",
              "            + ' to learn more about interactive tables.';\n",
              "          element.innerHTML = '';\n",
              "          dataTable['output_type'] = 'display_data';\n",
              "          await google.colab.output.renderOutput(dataTable, element);\n",
              "          const docLink = document.createElement('div');\n",
              "          docLink.innerHTML = docLinkHtml;\n",
              "          element.appendChild(docLink);\n",
              "        }\n",
              "      </script>\n",
              "    </div>\n",
              "  </div>\n",
              "  "
            ]
          },
          "metadata": {},
          "execution_count": 13
        }
      ]
    },
    {
      "cell_type": "code",
      "source": [
        "s = ['a','b','c','d','e']\n",
        "df[df['key'].isin(s)]"
      ],
      "metadata": {
        "colab": {
          "base_uri": "https://localhost:8080/",
          "height": 423
        },
        "id": "ksVXAfc3pk3W",
        "outputId": "6e58bb4e-48dc-4a58-8978-c3996c8074d5"
      },
      "execution_count": null,
      "outputs": [
        {
          "output_type": "execute_result",
          "data": {
            "text/plain": [
              "         col1  col2  col3  col4 key\n",
              "1         454   554   191   291   a\n",
              "5         228   328   277   377   d\n",
              "10        206   306   859   959   b\n",
              "19        271   371   152   252   b\n",
              "21         76   176   977  1077   b\n",
              "...       ...   ...   ...   ...  ..\n",
              "1999982   323   423    60   160   d\n",
              "1999983   873   973   497   597   e\n",
              "1999984   296   396   698   798   b\n",
              "1999985   524   624   913  1013   e\n",
              "1999990   603   703   645   745   d\n",
              "\n",
              "[192555 rows x 5 columns]"
            ],
            "text/html": [
              "\n",
              "  <div id=\"df-71f06ce0-6884-4032-881d-91e4565a51b1\">\n",
              "    <div class=\"colab-df-container\">\n",
              "      <div>\n",
              "<style scoped>\n",
              "    .dataframe tbody tr th:only-of-type {\n",
              "        vertical-align: middle;\n",
              "    }\n",
              "\n",
              "    .dataframe tbody tr th {\n",
              "        vertical-align: top;\n",
              "    }\n",
              "\n",
              "    .dataframe thead th {\n",
              "        text-align: right;\n",
              "    }\n",
              "</style>\n",
              "<table border=\"1\" class=\"dataframe\">\n",
              "  <thead>\n",
              "    <tr style=\"text-align: right;\">\n",
              "      <th></th>\n",
              "      <th>col1</th>\n",
              "      <th>col2</th>\n",
              "      <th>col3</th>\n",
              "      <th>col4</th>\n",
              "      <th>key</th>\n",
              "    </tr>\n",
              "  </thead>\n",
              "  <tbody>\n",
              "    <tr>\n",
              "      <th>1</th>\n",
              "      <td>454</td>\n",
              "      <td>554</td>\n",
              "      <td>191</td>\n",
              "      <td>291</td>\n",
              "      <td>a</td>\n",
              "    </tr>\n",
              "    <tr>\n",
              "      <th>5</th>\n",
              "      <td>228</td>\n",
              "      <td>328</td>\n",
              "      <td>277</td>\n",
              "      <td>377</td>\n",
              "      <td>d</td>\n",
              "    </tr>\n",
              "    <tr>\n",
              "      <th>10</th>\n",
              "      <td>206</td>\n",
              "      <td>306</td>\n",
              "      <td>859</td>\n",
              "      <td>959</td>\n",
              "      <td>b</td>\n",
              "    </tr>\n",
              "    <tr>\n",
              "      <th>19</th>\n",
              "      <td>271</td>\n",
              "      <td>371</td>\n",
              "      <td>152</td>\n",
              "      <td>252</td>\n",
              "      <td>b</td>\n",
              "    </tr>\n",
              "    <tr>\n",
              "      <th>21</th>\n",
              "      <td>76</td>\n",
              "      <td>176</td>\n",
              "      <td>977</td>\n",
              "      <td>1077</td>\n",
              "      <td>b</td>\n",
              "    </tr>\n",
              "    <tr>\n",
              "      <th>...</th>\n",
              "      <td>...</td>\n",
              "      <td>...</td>\n",
              "      <td>...</td>\n",
              "      <td>...</td>\n",
              "      <td>...</td>\n",
              "    </tr>\n",
              "    <tr>\n",
              "      <th>1999982</th>\n",
              "      <td>323</td>\n",
              "      <td>423</td>\n",
              "      <td>60</td>\n",
              "      <td>160</td>\n",
              "      <td>d</td>\n",
              "    </tr>\n",
              "    <tr>\n",
              "      <th>1999983</th>\n",
              "      <td>873</td>\n",
              "      <td>973</td>\n",
              "      <td>497</td>\n",
              "      <td>597</td>\n",
              "      <td>e</td>\n",
              "    </tr>\n",
              "    <tr>\n",
              "      <th>1999984</th>\n",
              "      <td>296</td>\n",
              "      <td>396</td>\n",
              "      <td>698</td>\n",
              "      <td>798</td>\n",
              "      <td>b</td>\n",
              "    </tr>\n",
              "    <tr>\n",
              "      <th>1999985</th>\n",
              "      <td>524</td>\n",
              "      <td>624</td>\n",
              "      <td>913</td>\n",
              "      <td>1013</td>\n",
              "      <td>e</td>\n",
              "    </tr>\n",
              "    <tr>\n",
              "      <th>1999990</th>\n",
              "      <td>603</td>\n",
              "      <td>703</td>\n",
              "      <td>645</td>\n",
              "      <td>745</td>\n",
              "      <td>d</td>\n",
              "    </tr>\n",
              "  </tbody>\n",
              "</table>\n",
              "<p>192555 rows × 5 columns</p>\n",
              "</div>\n",
              "      <button class=\"colab-df-convert\" onclick=\"convertToInteractive('df-71f06ce0-6884-4032-881d-91e4565a51b1')\"\n",
              "              title=\"Convert this dataframe to an interactive table.\"\n",
              "              style=\"display:none;\">\n",
              "        \n",
              "  <svg xmlns=\"http://www.w3.org/2000/svg\" height=\"24px\"viewBox=\"0 0 24 24\"\n",
              "       width=\"24px\">\n",
              "    <path d=\"M0 0h24v24H0V0z\" fill=\"none\"/>\n",
              "    <path d=\"M18.56 5.44l.94 2.06.94-2.06 2.06-.94-2.06-.94-.94-2.06-.94 2.06-2.06.94zm-11 1L8.5 8.5l.94-2.06 2.06-.94-2.06-.94L8.5 2.5l-.94 2.06-2.06.94zm10 10l.94 2.06.94-2.06 2.06-.94-2.06-.94-.94-2.06-.94 2.06-2.06.94z\"/><path d=\"M17.41 7.96l-1.37-1.37c-.4-.4-.92-.59-1.43-.59-.52 0-1.04.2-1.43.59L10.3 9.45l-7.72 7.72c-.78.78-.78 2.05 0 2.83L4 21.41c.39.39.9.59 1.41.59.51 0 1.02-.2 1.41-.59l7.78-7.78 2.81-2.81c.8-.78.8-2.07 0-2.86zM5.41 20L4 18.59l7.72-7.72 1.47 1.35L5.41 20z\"/>\n",
              "  </svg>\n",
              "      </button>\n",
              "      \n",
              "  <style>\n",
              "    .colab-df-container {\n",
              "      display:flex;\n",
              "      flex-wrap:wrap;\n",
              "      gap: 12px;\n",
              "    }\n",
              "\n",
              "    .colab-df-convert {\n",
              "      background-color: #E8F0FE;\n",
              "      border: none;\n",
              "      border-radius: 50%;\n",
              "      cursor: pointer;\n",
              "      display: none;\n",
              "      fill: #1967D2;\n",
              "      height: 32px;\n",
              "      padding: 0 0 0 0;\n",
              "      width: 32px;\n",
              "    }\n",
              "\n",
              "    .colab-df-convert:hover {\n",
              "      background-color: #E2EBFA;\n",
              "      box-shadow: 0px 1px 2px rgba(60, 64, 67, 0.3), 0px 1px 3px 1px rgba(60, 64, 67, 0.15);\n",
              "      fill: #174EA6;\n",
              "    }\n",
              "\n",
              "    [theme=dark] .colab-df-convert {\n",
              "      background-color: #3B4455;\n",
              "      fill: #D2E3FC;\n",
              "    }\n",
              "\n",
              "    [theme=dark] .colab-df-convert:hover {\n",
              "      background-color: #434B5C;\n",
              "      box-shadow: 0px 1px 3px 1px rgba(0, 0, 0, 0.15);\n",
              "      filter: drop-shadow(0px 1px 2px rgba(0, 0, 0, 0.3));\n",
              "      fill: #FFFFFF;\n",
              "    }\n",
              "  </style>\n",
              "\n",
              "      <script>\n",
              "        const buttonEl =\n",
              "          document.querySelector('#df-71f06ce0-6884-4032-881d-91e4565a51b1 button.colab-df-convert');\n",
              "        buttonEl.style.display =\n",
              "          google.colab.kernel.accessAllowed ? 'block' : 'none';\n",
              "\n",
              "        async function convertToInteractive(key) {\n",
              "          const element = document.querySelector('#df-71f06ce0-6884-4032-881d-91e4565a51b1');\n",
              "          const dataTable =\n",
              "            await google.colab.kernel.invokeFunction('convertToInteractive',\n",
              "                                                     [key], {});\n",
              "          if (!dataTable) return;\n",
              "\n",
              "          const docLinkHtml = 'Like what you see? Visit the ' +\n",
              "            '<a target=\"_blank\" href=https://colab.research.google.com/notebooks/data_table.ipynb>data table notebook</a>'\n",
              "            + ' to learn more about interactive tables.';\n",
              "          element.innerHTML = '';\n",
              "          dataTable['output_type'] = 'display_data';\n",
              "          await google.colab.output.renderOutput(dataTable, element);\n",
              "          const docLink = document.createElement('div');\n",
              "          docLink.innerHTML = docLinkHtml;\n",
              "          element.appendChild(docLink);\n",
              "        }\n",
              "      </script>\n",
              "    </div>\n",
              "  </div>\n",
              "  "
            ]
          },
          "metadata": {},
          "execution_count": 13
        }
      ]
    },
    {
      "cell_type": "markdown",
      "metadata": {
        "id": "_0JhDItGY2mG"
      },
      "source": [
        "## Лабораторная работа 3"
      ]
    },
    {
      "cell_type": "code",
      "execution_count": null,
      "metadata": {
        "id": "jsmy9kpJY2mG",
        "colab": {
          "base_uri": "https://localhost:8080/"
        },
        "outputId": "9247b8c4-7930-42a7-b678-a9a81169fe07"
      },
      "outputs": [
        {
          "output_type": "stream",
          "name": "stdout",
          "text": [
            "Looking in indexes: https://pypi.org/simple, https://us-python.pkg.dev/colab-wheels/public/simple/\n",
            "Collecting line_profiler\n",
            "  Downloading line_profiler-4.0.3-cp310-cp310-manylinux_2_17_x86_64.manylinux2014_x86_64.whl (661 kB)\n",
            "\u001b[2K     \u001b[90m━━━━━━━━━━━━━━━━━━━━━━━━━━━━━━━━━━━━━━\u001b[0m \u001b[32m661.9/661.9 kB\u001b[0m \u001b[31m11.2 MB/s\u001b[0m eta \u001b[36m0:00:00\u001b[0m\n",
            "\u001b[?25hInstalling collected packages: line_profiler\n",
            "Successfully installed line_profiler-4.0.3\n"
          ]
        }
      ],
      "source": [
        "!pip install line_profiler"
      ]
    },
    {
      "cell_type": "markdown",
      "metadata": {
        "id": "DmlGJM7KY2mH"
      },
      "source": [
        "1. В файлах `recipes_sample.csv` и `reviews_sample.csv` (__ЛР 2__) находится информация об рецептах блюд и отзывах на эти рецепты соответственно. Загрузите данные из файлов в виде `pd.DataFrame` с названиями `recipes` и `reviews`. Обратите внимание на корректное считывание столбца(ов) с индексами. Приведите столбцы к нужным типам.\n",
        "\n",
        "Реализуйте несколько вариантов функции подсчета среднего значения столбца `rating` из таблицы `reviews` для отзывов, оставленных в 2010 году.\n",
        "\n",
        "A. С использованием метода `DataFrame.iterrows` исходной таблицы;\n",
        "\n",
        "Б. С использованием метода `DataFrame.iterrows` таблицы, в которой сохранены только отзывы за 2010 год;\n",
        "\n",
        "В. С использованием метода `Series.mean`.\n",
        "\n",
        "Проверьте, что результаты работы всех написанных функций корректны и совпадают. Измерьте выполнения всех написанных функций.\n"
      ]
    },
    {
      "cell_type": "code",
      "source": [
        "%load_ext line_profiler"
      ],
      "metadata": {
        "id": "9M4PwEOkl4Ph"
      },
      "execution_count": null,
      "outputs": []
    },
    {
      "cell_type": "code",
      "source": [
        "recipes = pd.read_csv('/content/recipes_sample.csv', delimiter = ',')\n",
        "reviews = pd.read_csv('/content/reviews_sample.csv', delimiter = ',')\n",
        "reviews['date'] = pd.to_datetime(reviews['date'], format=\"%Y-%m-%d\")\n",
        "reviews.info()"
      ],
      "metadata": {
        "id": "WUeki6eoqzRM",
        "colab": {
          "base_uri": "https://localhost:8080/"
        },
        "outputId": "328d7156-7283-46b1-a5fc-866602494551"
      },
      "execution_count": null,
      "outputs": [
        {
          "output_type": "stream",
          "name": "stdout",
          "text": [
            "<class 'pandas.core.frame.DataFrame'>\n",
            "RangeIndex: 126696 entries, 0 to 126695\n",
            "Data columns (total 6 columns):\n",
            " #   Column      Non-Null Count   Dtype         \n",
            "---  ------      --------------   -----         \n",
            " 0   Unnamed: 0  126696 non-null  int64         \n",
            " 1   user_id     126696 non-null  int64         \n",
            " 2   recipe_id   126696 non-null  int64         \n",
            " 3   date        126696 non-null  datetime64[ns]\n",
            " 4   rating      126696 non-null  int64         \n",
            " 5   review      126679 non-null  object        \n",
            "dtypes: datetime64[ns](1), int64(4), object(1)\n",
            "memory usage: 5.8+ MB\n"
          ]
        }
      ]
    },
    {
      "cell_type": "code",
      "source": [
        "def r1():\n",
        "    sums = 0\n",
        "    cnt = 0\n",
        "    for i in reviews.iterrows():\n",
        "        if i[1].date.year == 2010:\n",
        "            sums += i[1].rating\n",
        "            cnt += 1\n",
        "    return sums/cnt\n",
        "r1()"
      ],
      "metadata": {
        "id": "FRE7eIEy2Vt8",
        "colab": {
          "base_uri": "https://localhost:8080/"
        },
        "outputId": "17cd6112-0362-45b6-984b-9bf172000aa0"
      },
      "execution_count": null,
      "outputs": [
        {
          "output_type": "execute_result",
          "data": {
            "text/plain": [
              "4.4544402182900615"
            ]
          },
          "metadata": {},
          "execution_count": 18
        }
      ]
    },
    {
      "cell_type": "code",
      "source": [
        "%time r1()"
      ],
      "metadata": {
        "colab": {
          "base_uri": "https://localhost:8080/"
        },
        "id": "mwYz4lLmpHqY",
        "outputId": "c914105a-cd05-46eb-ca71-431838cc351b"
      },
      "execution_count": null,
      "outputs": [
        {
          "output_type": "stream",
          "name": "stdout",
          "text": [
            "CPU times: user 7.02 s, sys: 62.4 ms, total: 7.09 s\n",
            "Wall time: 7.52 s\n"
          ]
        },
        {
          "output_type": "execute_result",
          "data": {
            "text/plain": [
              "4.4544402182900615"
            ]
          },
          "metadata": {},
          "execution_count": 19
        }
      ]
    },
    {
      "cell_type": "code",
      "source": [
        "def r2():\n",
        "    sums = 0\n",
        "    cnt = 0\n",
        "    for i in reviews[reviews['date'].dt.year == 2010].iterrows():\n",
        "        sums += i[1].rating\n",
        "        cnt += 1\n",
        "    return sums/cnt\n",
        "r2()"
      ],
      "metadata": {
        "colab": {
          "base_uri": "https://localhost:8080/"
        },
        "id": "DgeYzKeQpN16",
        "outputId": "ff558ab5-3af7-463d-c315-a3f09e9bc58c"
      },
      "execution_count": null,
      "outputs": [
        {
          "output_type": "execute_result",
          "data": {
            "text/plain": [
              "4.4544402182900615"
            ]
          },
          "metadata": {},
          "execution_count": 20
        }
      ]
    },
    {
      "cell_type": "code",
      "source": [
        "%time r2()"
      ],
      "metadata": {
        "colab": {
          "base_uri": "https://localhost:8080/"
        },
        "id": "8fT2Lxo1pS8i",
        "outputId": "e4c1fbc8-1266-4a61-80d8-fd24d26981f3"
      },
      "execution_count": null,
      "outputs": [
        {
          "output_type": "stream",
          "name": "stdout",
          "text": [
            "CPU times: user 625 ms, sys: 1.67 ms, total: 627 ms\n",
            "Wall time: 631 ms\n"
          ]
        },
        {
          "output_type": "execute_result",
          "data": {
            "text/plain": [
              "4.4544402182900615"
            ]
          },
          "metadata": {},
          "execution_count": 21
        }
      ]
    },
    {
      "cell_type": "code",
      "source": [
        "def r3():\n",
        "    return reviews[reviews['date'].dt.year == 2010]['rating'].mean()\n",
        "r3()"
      ],
      "metadata": {
        "colab": {
          "base_uri": "https://localhost:8080/"
        },
        "id": "WqW2_-9QpV0z",
        "outputId": "c4c47798-88a7-4d70-fe6b-0d2ea0e1ab0b"
      },
      "execution_count": null,
      "outputs": [
        {
          "output_type": "execute_result",
          "data": {
            "text/plain": [
              "4.4544402182900615"
            ]
          },
          "metadata": {},
          "execution_count": 22
        }
      ]
    },
    {
      "cell_type": "code",
      "source": [
        "%time r3()"
      ],
      "metadata": {
        "colab": {
          "base_uri": "https://localhost:8080/"
        },
        "id": "7XZtAuTTpXnp",
        "outputId": "12bc703d-74d2-46a9-f141-aa9ccb4b2bc3"
      },
      "execution_count": null,
      "outputs": [
        {
          "output_type": "stream",
          "name": "stdout",
          "text": [
            "CPU times: user 22.3 ms, sys: 0 ns, total: 22.3 ms\n",
            "Wall time: 26.7 ms\n"
          ]
        },
        {
          "output_type": "execute_result",
          "data": {
            "text/plain": [
              "4.4544402182900615"
            ]
          },
          "metadata": {},
          "execution_count": 23
        }
      ]
    },
    {
      "cell_type": "markdown",
      "metadata": {
        "id": "Zl5skDx_Y2mH"
      },
      "source": [
        "2. Какая из созданных функций выполняется медленнее? Что наиболее сильно влияет на скорость выполнения? Для ответа использовать профайлер `line_profiler`. Сохраните результаты работы профайлера в отдельную текстовую ячейку и прокомментируйте результаты его работы.\n",
        "\n",
        "(*). Сможете ли вы ускорить работу функции 1Б, отказавшись от использования метода `iterrows`, но не используя метод `mean`?"
      ]
    },
    {
      "cell_type": "code",
      "source": [
        "%lprun -f r1 r1()"
      ],
      "metadata": {
        "id": "_wZy33aNpaQ_"
      },
      "execution_count": null,
      "outputs": []
    },
    {
      "cell_type": "markdown",
      "source": [
        "Timer unit: 1e-09 s\n",
        "\n",
        "Total time: 13.3736 s\n",
        "File: <ipython-input-18-1b2eb7000e32>\n",
        "Function: r1 at line 1\n",
        "\n",
        "Line #      Hits         Time  Per Hit   % Time  Line Contents\n",
        "==============================================================\n",
        "     1                                           def r1():\n",
        "     2         1       1775.0   1775.0      0.0      sums = 0\n",
        "     3         1        208.0    208.0      0.0      cnt = 0\n",
        "     4    126696 10721012698.0  84620.0     80.2      for i in reviews.iterrows():\n",
        "     5    114602 2440344315.0  21294.1     18.2          if i[1].date.year == 2010:\n",
        "     6     12094  206573428.0  17080.7      1.5              sums += i[1].rating\n",
        "     7     12094    5691578.0    470.6      0.0              cnt += 1\n",
        "     8         1       1183.0   1183.0      0.0      return sums/cnt\n",
        "\n"
      ],
      "metadata": {
        "id": "ee159Rr3pqpR"
      }
    },
    {
      "cell_type": "code",
      "source": [
        "%lprun -f r2 r2()"
      ],
      "metadata": {
        "id": "UA4ZsLWipnsq"
      },
      "execution_count": null,
      "outputs": []
    },
    {
      "cell_type": "markdown",
      "source": [
        "Timer unit: 1e-09 s\n",
        "\n",
        "Total time: 1.15113 s\n",
        "File: <ipython-input-20-02fc350dbfac>\n",
        "Function: r2 at line 1\n",
        "\n",
        "Line #      Hits         Time  Per Hit   % Time  Line Contents\n",
        "==============================================================\n",
        "     1                                           def r2():\n",
        "     2         1       1235.0   1235.0      0.0      sums = 0\n",
        "     3         1        217.0    217.0      0.0      cnt = 0\n",
        "     4     12094  916350002.0  75769.0     79.6      for i in reviews[reviews['date'].dt.year == 2010].iterrows():\n",
        "     5     12094  229287402.0  18958.8     19.9          sums += i[1].rating\n",
        "     6     12094    5487951.0    453.8      0.5          cnt += 1\n",
        "     7         1       1373.0   1373.0      0.0      return sums/cnt"
      ],
      "metadata": {
        "id": "JbG5qcdTp0oK"
      }
    },
    {
      "cell_type": "code",
      "source": [
        "%lprun -f r3 r3()"
      ],
      "metadata": {
        "id": "w1sEZzoDp356"
      },
      "execution_count": null,
      "outputs": []
    },
    {
      "cell_type": "markdown",
      "source": [
        "Timer unit: 1e-09 s\n",
        "\n",
        "Total time: 0.0228886 s\n",
        "File: <ipython-input-22-1cd2dda05203>\n",
        "Function: r3 at line 1\n",
        "\n",
        "Line #      Hits         Time  Per Hit   % Time  Line Contents\n",
        "==============================================================\n",
        "     1                                           def r3():\n",
        "     2         1   22888627.0 22888627.0    100.0      return reviews[reviews['date'].dt.year == 2010]['rating'].mean()"
      ],
      "metadata": {
        "id": "NGaaGcPap_IF"
      }
    },
    {
      "cell_type": "markdown",
      "metadata": {
        "id": "7RocRUnXY2mI"
      },
      "source": [
        "3. Вам предлагается воспользоваться функцией, которая собирает статистику о том, сколько отзывов содержат то или иное слово. Измерьте время выполнения этой функции. Сможете ли вы найти узкие места в коде, используя профайлер? Выпишите (словами), что в имеющемся коде реализовано неоптимально. Оптимизируйте функцию и добейтесь значительного (как минимум, на один порядок) прироста в скорости выполнения."
      ]
    },
    {
      "cell_type": "code",
      "execution_count": null,
      "metadata": {
        "id": "7M8XfZNKY2mI"
      },
      "outputs": [],
      "source": [
        "def get_word_reviews_count(df):\n",
        "    word_reviews = {}\n",
        "    for _, row in df.dropna(subset=['review']).iterrows():\n",
        "        recipe_id, review = row['recipe_id'], row['review']\n",
        "        words = review.split(' ')\n",
        "        for word in words:\n",
        "            if word not in word_reviews:\n",
        "                word_reviews[word] = []\n",
        "            word_reviews[word].append(recipe_id)\n",
        "    \n",
        "    word_reviews_count = {}\n",
        "    for _, row in df.dropna(subset=['review']).iterrows():\n",
        "        review = row['review']\n",
        "        words = review.split(' ')\n",
        "        for word in words:\n",
        "            word_reviews_count[word] = len(word_reviews[word])\n",
        "    return word_reviews_count"
      ]
    },
    {
      "cell_type": "code",
      "source": [
        "%%time\n",
        "result_origin = get_word_reviews_count(reviews)"
      ],
      "metadata": {
        "colab": {
          "base_uri": "https://localhost:8080/"
        },
        "id": "1orNbZwAqF3w",
        "outputId": "ad5bcc5b-1049-443a-b004-38d16d68728e"
      },
      "execution_count": null,
      "outputs": [
        {
          "output_type": "stream",
          "name": "stdout",
          "text": [
            "CPU times: user 21.4 s, sys: 197 ms, total: 21.6 s\n",
            "Wall time: 22.5 s\n"
          ]
        }
      ]
    },
    {
      "cell_type": "code",
      "source": [
        "%lprun -f get_word_reviews_count get_word_reviews_count(reviews)"
      ],
      "metadata": {
        "id": "VctKSLQVqLPP"
      },
      "execution_count": null,
      "outputs": []
    },
    {
      "cell_type": "markdown",
      "source": [
        "Timer unit: 1e-09 s\n",
        "\n",
        "Total time: 46.0454 s\n",
        "File: <ipython-input-27-b1bc049bcd0c>\n",
        "Function: get_word_reviews_count at line 1\n",
        "\n",
        "Line #      Hits         Time  Per Hit   % Time  Line Contents\n",
        "==============================================================\n",
        "     1                                           def get_word_reviews_count(df):\n",
        "     2         1       1127.0   1127.0      0.0      word_reviews = {}\n",
        "     3    126679 12137726314.0  95814.8     26.4      for _, row in df.dropna(subset=['review']).iterrows():\n",
        "     4    126679 2752607743.0  21729.0      6.0          recipe_id, review = row['recipe_id'], row['review']\n",
        "     5    126679  645602640.0   5096.4      1.4          words = review.split(' ')\n",
        "     6   6792010 1710117072.0    251.8      3.7          for word in words:\n",
        "     7   6617066 3154917310.0    476.8      6.9              if word not in word_reviews:\n",
        "     8    174944   92776360.0    530.3      0.2                  word_reviews[word] = []\n",
        "     9   6792010 4348588787.0    640.3      9.4              word_reviews[word].append(recipe_id)\n",
        "    10                                               \n",
        "    11         1        945.0    945.0      0.0      word_reviews_count = {}\n",
        "    12    126679 11360276764.0  89677.7     24.7      for _, row in df.dropna(subset=['review']).iterrows():\n",
        "    13    126679 1672386976.0  13201.8      3.6          review = row['review']"
      ],
      "metadata": {
        "id": "OLGPMVvnq93I"
      }
    },
    {
      "cell_type": "code",
      "source": [
        "def get_word_reviews_count_opt(df):\n",
        "    word_reviews_count = {}\n",
        "    for row in df.dropna(subset=['review'])['review'].str.split(' '):\n",
        "        for word in row:\n",
        "            if word in word_reviews_count:\n",
        "                word_reviews_count[word] += 1\n",
        "            else:\n",
        "                word_reviews_count[word] = 1\n",
        "    return word_reviews_count"
      ],
      "metadata": {
        "id": "1f_ZoSIaqeA5"
      },
      "execution_count": null,
      "outputs": []
    },
    {
      "cell_type": "code",
      "source": [
        "%%time\n",
        "result_opt = get_word_reviews_count_opt(reviews)"
      ],
      "metadata": {
        "colab": {
          "base_uri": "https://localhost:8080/"
        },
        "id": "kh24vFdDqixn",
        "outputId": "77aa215f-c4ef-4b68-819a-30fb252ef481"
      },
      "execution_count": null,
      "outputs": [
        {
          "output_type": "stream",
          "name": "stdout",
          "text": [
            "CPU times: user 2.82 s, sys: 534 ms, total: 3.36 s\n",
            "Wall time: 3.37 s\n"
          ]
        }
      ]
    },
    {
      "cell_type": "code",
      "source": [
        "%lprun -f get_word_reviews_count_opt get_word_reviews_count_opt(reviews)"
      ],
      "metadata": {
        "id": "T2734BgJqmpu"
      },
      "execution_count": null,
      "outputs": []
    },
    {
      "cell_type": "markdown",
      "metadata": {
        "id": "X4fbkhHVY2mI"
      },
      "source": [
        "4. Напишите несколько версий функции `MAPE` (см. [MAPE](https://en.wikipedia.org/wiki/Mean_absolute_percentage_error)) для расчета среднего абсолютного процентного отклонения значения рейтинга отзыва на рецепт от среднего значения рейтинга по всем отзывам для этого рецепта. \n",
        "    1. Без использования векторизованных операций и методов массивов `numpy` и без использования `numba`\n",
        "    2. Без использования векторизованных операций и методов массивов `numpy`, но с использованием `numba`\n",
        "    3. С использованием векторизованных операций и методов массивов `numpy`, но без использования `numba`\n",
        "    4. C использованием векторизованных операций и методов массивов `numpy` и `numba`\n",
        "    \n",
        "Измерьте время выполнения каждой из реализаций.\n",
        "\n",
        "Замечание: удалите из выборки отзывы с нулевым рейтингом.\n"
      ]
    },
    {
      "cell_type": "code",
      "source": [
        "#1 способ\n",
        "def MAPE_1(rev: pd.DataFrame):\n",
        "    rating_clear = rev[rev['rating'] != 0]['rating']\n",
        "    mean = rating_clear.mean()\n",
        "    return rating_clear.apply(lambda x: abs(mean - x)).sum() / mean * 100 / rating_clear.count()"
      ],
      "metadata": {
        "id": "LwLCy8n2rNc1"
      },
      "execution_count": null,
      "outputs": []
    },
    {
      "cell_type": "code",
      "execution_count": null,
      "metadata": {
        "id": "le6OC8RxY2mJ",
        "colab": {
          "base_uri": "https://localhost:8080/"
        },
        "outputId": "1ce41411-cd37-43da-d1c7-2fdae38814fd"
      },
      "outputs": [
        {
          "output_type": "stream",
          "name": "stdout",
          "text": [
            "CPU times: user 81.7 ms, sys: 0 ns, total: 81.7 ms\n",
            "Wall time: 86.8 ms\n"
          ]
        },
        {
          "output_type": "execute_result",
          "data": {
            "text/plain": [
              "11.079150232267242"
            ]
          },
          "metadata": {},
          "execution_count": 34
        }
      ],
      "source": [
        "%time MAPE_1(reviews)"
      ]
    },
    {
      "cell_type": "code",
      "source": [
        "#2 способ\n",
        "@njit\n",
        "def MAPE_2(rev: pd.DataFrame):\n",
        "    rating_clear = rev[rev['rating'] != 0]['rating']\n",
        "    mean = rating_clear.mean()\n",
        "    return rating_clear.apply(lambda x: abs(mean - x)).sum() / mean * 100 / rating_clear.count()"
      ],
      "metadata": {
        "id": "GZUIVUkPrQ3N"
      },
      "execution_count": null,
      "outputs": []
    },
    {
      "cell_type": "code",
      "execution_count": null,
      "metadata": {
        "id": "KOwKLv9NY2mJ"
      },
      "outputs": [],
      "source": [
        "#3 способ\n",
        "def MAPE_3(rev: pd.DataFrame):\n",
        "    rating_clear = rev[rev['rating'] != 0]['rating'].to_numpy()\n",
        "    mean = rating_clear.mean()\n",
        "    return np.absolute(rating_clear - mean).sum() / mean * 100 / rating_clear.shape[0]"
      ]
    },
    {
      "cell_type": "code",
      "source": [
        "%time MAPE_3(reviews)"
      ],
      "metadata": {
        "colab": {
          "base_uri": "https://localhost:8080/"
        },
        "id": "pXEY9CXWr9XB",
        "outputId": "e3706436-ad12-4786-ba39-216e5fbff689"
      },
      "execution_count": null,
      "outputs": [
        {
          "output_type": "stream",
          "name": "stdout",
          "text": [
            "CPU times: user 18 ms, sys: 1 ms, total: 19 ms\n",
            "Wall time: 22.8 ms\n"
          ]
        },
        {
          "output_type": "execute_result",
          "data": {
            "text/plain": [
              "11.079150232267242"
            ]
          },
          "metadata": {},
          "execution_count": 39
        }
      ]
    },
    {
      "cell_type": "code",
      "source": [
        "#4 способ\n",
        "@njit\n",
        "def MAPE_4_0(a: np.array):\n",
        "    mean = a.mean()\n",
        "    return np.absolute(a - mean).sum() / mean * 100 / a.shape[0]"
      ],
      "metadata": {
        "id": "zSd0cGuisBtu"
      },
      "execution_count": null,
      "outputs": []
    },
    {
      "cell_type": "code",
      "source": [
        "def MAPE_4(rev: pd.DataFrame):\n",
        "    rating_clear = rev[rev['rating'] != 0]['rating'].to_numpy()\n",
        "    return MAPE_4_0(rating_clear)"
      ],
      "metadata": {
        "id": "SiiEobBdsEg8"
      },
      "execution_count": null,
      "outputs": []
    },
    {
      "cell_type": "code",
      "source": [
        "%time MAPE_4(reviews)"
      ],
      "metadata": {
        "colab": {
          "base_uri": "https://localhost:8080/"
        },
        "id": "EeEdek2SsG9m",
        "outputId": "0cad0625-960e-4a37-c0d6-66a7c185d6cb"
      },
      "execution_count": null,
      "outputs": [
        {
          "output_type": "stream",
          "name": "stdout",
          "text": [
            "CPU times: user 1.03 s, sys: 127 ms, total: 1.16 s\n",
            "Wall time: 1.09 s\n"
          ]
        },
        {
          "output_type": "execute_result",
          "data": {
            "text/plain": [
              "11.079150232261632"
            ]
          },
          "metadata": {},
          "execution_count": 42
        }
      ]
    }
  ],
  "metadata": {
    "kernelspec": {
      "display_name": "Python 3",
      "language": "python",
      "name": "python3"
    },
    "language_info": {
      "codemirror_mode": {
        "name": "ipython",
        "version": 3
      },
      "file_extension": ".py",
      "mimetype": "text/x-python",
      "name": "python",
      "nbconvert_exporter": "python",
      "pygments_lexer": "ipython3",
      "version": "3.7.4"
    },
    "colab": {
      "provenance": []
    }
  },
  "nbformat": 4,
  "nbformat_minor": 0
}